{
 "cells": [
  {
   "cell_type": "code",
   "execution_count": 1,
   "metadata": {},
   "outputs": [],
   "source": [
    "# -*- coding: utf-8 -*-\n",
    "\"\"\"\n",
    "Created on Fri Jul 20 23:51:40 2018\n",
    "\n",
    "@author: abhishek\n",
    "\"\"\"\n",
    "\n",
    "import pandas as pd\n",
    "import numpy as np\n",
    "\n"
   ]
  },
  {
   "cell_type": "code",
   "execution_count": 2,
   "metadata": {},
   "outputs": [],
   "source": [
    "# df = pd.read_csv('Card_Transactions.csv') ;\n",
    "\n",
    "df_credit = pd.read_csv('PS_20174392719_1491204439457_log.csv') ;\n",
    "df_debit = pd.read_csv('PS_20174392719_1491204439457_log.csv') ;\n",
    "\n",
    "\n"
   ]
  },
  {
   "cell_type": "code",
   "execution_count": 3,
   "metadata": {},
   "outputs": [],
   "source": [
    "df_credit[\"C_D\"] = \"C\""
   ]
  },
  {
   "cell_type": "code",
   "execution_count": 4,
   "metadata": {},
   "outputs": [],
   "source": [
    "df_debit[\"C_D\"] = \"D\""
   ]
  },
  {
   "cell_type": "code",
   "execution_count": 5,
   "metadata": {},
   "outputs": [],
   "source": [
    "df_debit.rename(columns={'nameOrig': 'Orig'}, inplace=True);\n",
    "df_debit.rename(columns={'nameDest': 'Dest'}, inplace=True)"
   ]
  },
  {
   "cell_type": "code",
   "execution_count": 6,
   "metadata": {},
   "outputs": [],
   "source": [
    "df_credit.rename(columns={'nameOrig': 'Dest'}, inplace=True);\n",
    "df_credit.rename(columns={'nameDest': 'Orig'}, inplace=True)"
   ]
  },
  {
   "cell_type": "code",
   "execution_count": 7,
   "metadata": {},
   "outputs": [
    {
     "data": {
      "text/plain": [
       "step              8213\n",
       "type              8213\n",
       "amount            8213\n",
       "Orig              8213\n",
       "oldbalanceOrg     8213\n",
       "newbalanceOrig    8213\n",
       "Dest              8213\n",
       "oldbalanceDest    8213\n",
       "newbalanceDest    8213\n",
       "isFraud           8213\n",
       "isFlaggedFraud    8213\n",
       "C_D               8213\n",
       "dtype: int64"
      ]
     },
     "execution_count": 7,
     "metadata": {},
     "output_type": "execute_result"
    }
   ],
   "source": [
    "  df_debit[df_debit.isFraud > 0].count() "
   ]
  },
  {
   "cell_type": "code",
   "execution_count": 8,
   "metadata": {},
   "outputs": [
    {
     "name": "stderr",
     "output_type": "stream",
     "text": [
      "C:\\Users\\abhim\\Anaconda3\\lib\\site-packages\\ipykernel_launcher.py:1: FutureWarning: Sorting because non-concatenation axis is not aligned. A future version\n",
      "of pandas will change to not sort by default.\n",
      "\n",
      "To accept the future behavior, pass 'sort=False'.\n",
      "\n",
      "To retain the current behavior and silence the warning, pass 'sort=True'.\n",
      "\n",
      "  \"\"\"Entry point for launching an IPython kernel.\n"
     ]
    }
   ],
   "source": [
    "df_trxn = pd.concat([df_debit, df_credit])"
   ]
  },
  {
   "cell_type": "code",
   "execution_count": 9,
   "metadata": {},
   "outputs": [
    {
     "data": {
      "text/plain": [
       "(12725240, 12)"
      ]
     },
     "execution_count": 9,
     "metadata": {},
     "output_type": "execute_result"
    }
   ],
   "source": [
    "df_trxn.shape"
   ]
  },
  {
   "cell_type": "code",
   "execution_count": 10,
   "metadata": {},
   "outputs": [
    {
     "data": {
      "text/html": [
       "<div>\n",
       "<style scoped>\n",
       "    .dataframe tbody tr th:only-of-type {\n",
       "        vertical-align: middle;\n",
       "    }\n",
       "\n",
       "    .dataframe tbody tr th {\n",
       "        vertical-align: top;\n",
       "    }\n",
       "\n",
       "    .dataframe thead th {\n",
       "        text-align: right;\n",
       "    }\n",
       "</style>\n",
       "<table border=\"1\" class=\"dataframe\">\n",
       "  <thead>\n",
       "    <tr style=\"text-align: right;\">\n",
       "      <th></th>\n",
       "      <th>C_D</th>\n",
       "      <th>Dest</th>\n",
       "      <th>Orig</th>\n",
       "      <th>amount</th>\n",
       "      <th>isFlaggedFraud</th>\n",
       "      <th>isFraud</th>\n",
       "      <th>newbalanceDest</th>\n",
       "      <th>newbalanceOrig</th>\n",
       "      <th>oldbalanceDest</th>\n",
       "      <th>oldbalanceOrg</th>\n",
       "      <th>step</th>\n",
       "      <th>type</th>\n",
       "    </tr>\n",
       "  </thead>\n",
       "  <tbody>\n",
       "    <tr>\n",
       "      <th>0</th>\n",
       "      <td>D</td>\n",
       "      <td>M1979787155</td>\n",
       "      <td>C1231006815</td>\n",
       "      <td>9839.64</td>\n",
       "      <td>0</td>\n",
       "      <td>0</td>\n",
       "      <td>0.0</td>\n",
       "      <td>160296.36</td>\n",
       "      <td>0.0</td>\n",
       "      <td>170136.0</td>\n",
       "      <td>1</td>\n",
       "      <td>PAYMENT</td>\n",
       "    </tr>\n",
       "    <tr>\n",
       "      <th>1</th>\n",
       "      <td>D</td>\n",
       "      <td>M2044282225</td>\n",
       "      <td>C1666544295</td>\n",
       "      <td>1864.28</td>\n",
       "      <td>0</td>\n",
       "      <td>0</td>\n",
       "      <td>0.0</td>\n",
       "      <td>19384.72</td>\n",
       "      <td>0.0</td>\n",
       "      <td>21249.0</td>\n",
       "      <td>1</td>\n",
       "      <td>PAYMENT</td>\n",
       "    </tr>\n",
       "    <tr>\n",
       "      <th>2</th>\n",
       "      <td>D</td>\n",
       "      <td>C553264065</td>\n",
       "      <td>C1305486145</td>\n",
       "      <td>181.00</td>\n",
       "      <td>0</td>\n",
       "      <td>1</td>\n",
       "      <td>0.0</td>\n",
       "      <td>0.00</td>\n",
       "      <td>0.0</td>\n",
       "      <td>181.0</td>\n",
       "      <td>1</td>\n",
       "      <td>TRANSFER</td>\n",
       "    </tr>\n",
       "    <tr>\n",
       "      <th>3</th>\n",
       "      <td>D</td>\n",
       "      <td>C38997010</td>\n",
       "      <td>C840083671</td>\n",
       "      <td>181.00</td>\n",
       "      <td>0</td>\n",
       "      <td>1</td>\n",
       "      <td>0.0</td>\n",
       "      <td>0.00</td>\n",
       "      <td>21182.0</td>\n",
       "      <td>181.0</td>\n",
       "      <td>1</td>\n",
       "      <td>CASH_OUT</td>\n",
       "    </tr>\n",
       "    <tr>\n",
       "      <th>4</th>\n",
       "      <td>D</td>\n",
       "      <td>M1230701703</td>\n",
       "      <td>C2048537720</td>\n",
       "      <td>11668.14</td>\n",
       "      <td>0</td>\n",
       "      <td>0</td>\n",
       "      <td>0.0</td>\n",
       "      <td>29885.86</td>\n",
       "      <td>0.0</td>\n",
       "      <td>41554.0</td>\n",
       "      <td>1</td>\n",
       "      <td>PAYMENT</td>\n",
       "    </tr>\n",
       "  </tbody>\n",
       "</table>\n",
       "</div>"
      ],
      "text/plain": [
       "  C_D         Dest         Orig    amount  isFlaggedFraud  isFraud  \\\n",
       "0   D  M1979787155  C1231006815   9839.64               0        0   \n",
       "1   D  M2044282225  C1666544295   1864.28               0        0   \n",
       "2   D   C553264065  C1305486145    181.00               0        1   \n",
       "3   D    C38997010   C840083671    181.00               0        1   \n",
       "4   D  M1230701703  C2048537720  11668.14               0        0   \n",
       "\n",
       "   newbalanceDest  newbalanceOrig  oldbalanceDest  oldbalanceOrg  step  \\\n",
       "0             0.0       160296.36             0.0       170136.0     1   \n",
       "1             0.0        19384.72             0.0        21249.0     1   \n",
       "2             0.0            0.00             0.0          181.0     1   \n",
       "3             0.0            0.00         21182.0          181.0     1   \n",
       "4             0.0        29885.86             0.0        41554.0     1   \n",
       "\n",
       "       type  \n",
       "0   PAYMENT  \n",
       "1   PAYMENT  \n",
       "2  TRANSFER  \n",
       "3  CASH_OUT  \n",
       "4   PAYMENT  "
      ]
     },
     "execution_count": 10,
     "metadata": {},
     "output_type": "execute_result"
    }
   ],
   "source": [
    "df_trxn.head(5)"
   ]
  },
  {
   "cell_type": "code",
   "execution_count": 11,
   "metadata": {},
   "outputs": [],
   "source": [
    "df_trxn.drop(['newbalanceDest'], axis = 1, inplace = True);\n",
    "df_trxn.drop(['newbalanceOrig'], axis = 1, inplace = True);\n",
    "df_trxn.drop(['oldbalanceDest'], axis = 1, inplace = True);\n",
    "df_trxn.drop(['oldbalanceOrg'], axis = 1, inplace = True);\n"
   ]
  },
  {
   "cell_type": "code",
   "execution_count": 12,
   "metadata": {},
   "outputs": [
    {
     "data": {
      "text/html": [
       "<div>\n",
       "<style scoped>\n",
       "    .dataframe tbody tr th:only-of-type {\n",
       "        vertical-align: middle;\n",
       "    }\n",
       "\n",
       "    .dataframe tbody tr th {\n",
       "        vertical-align: top;\n",
       "    }\n",
       "\n",
       "    .dataframe thead th {\n",
       "        text-align: right;\n",
       "    }\n",
       "</style>\n",
       "<table border=\"1\" class=\"dataframe\">\n",
       "  <thead>\n",
       "    <tr style=\"text-align: right;\">\n",
       "      <th></th>\n",
       "      <th>C_D</th>\n",
       "      <th>Dest</th>\n",
       "      <th>Orig</th>\n",
       "      <th>amount</th>\n",
       "      <th>isFlaggedFraud</th>\n",
       "      <th>isFraud</th>\n",
       "      <th>step</th>\n",
       "      <th>type</th>\n",
       "    </tr>\n",
       "  </thead>\n",
       "  <tbody>\n",
       "    <tr>\n",
       "      <th>0</th>\n",
       "      <td>D</td>\n",
       "      <td>M1979787155</td>\n",
       "      <td>C1231006815</td>\n",
       "      <td>9839.64</td>\n",
       "      <td>0</td>\n",
       "      <td>0</td>\n",
       "      <td>1</td>\n",
       "      <td>PAYMENT</td>\n",
       "    </tr>\n",
       "    <tr>\n",
       "      <th>1</th>\n",
       "      <td>D</td>\n",
       "      <td>M2044282225</td>\n",
       "      <td>C1666544295</td>\n",
       "      <td>1864.28</td>\n",
       "      <td>0</td>\n",
       "      <td>0</td>\n",
       "      <td>1</td>\n",
       "      <td>PAYMENT</td>\n",
       "    </tr>\n",
       "    <tr>\n",
       "      <th>2</th>\n",
       "      <td>D</td>\n",
       "      <td>C553264065</td>\n",
       "      <td>C1305486145</td>\n",
       "      <td>181.00</td>\n",
       "      <td>0</td>\n",
       "      <td>1</td>\n",
       "      <td>1</td>\n",
       "      <td>TRANSFER</td>\n",
       "    </tr>\n",
       "    <tr>\n",
       "      <th>3</th>\n",
       "      <td>D</td>\n",
       "      <td>C38997010</td>\n",
       "      <td>C840083671</td>\n",
       "      <td>181.00</td>\n",
       "      <td>0</td>\n",
       "      <td>1</td>\n",
       "      <td>1</td>\n",
       "      <td>CASH_OUT</td>\n",
       "    </tr>\n",
       "    <tr>\n",
       "      <th>4</th>\n",
       "      <td>D</td>\n",
       "      <td>M1230701703</td>\n",
       "      <td>C2048537720</td>\n",
       "      <td>11668.14</td>\n",
       "      <td>0</td>\n",
       "      <td>0</td>\n",
       "      <td>1</td>\n",
       "      <td>PAYMENT</td>\n",
       "    </tr>\n",
       "  </tbody>\n",
       "</table>\n",
       "</div>"
      ],
      "text/plain": [
       "  C_D         Dest         Orig    amount  isFlaggedFraud  isFraud  step  \\\n",
       "0   D  M1979787155  C1231006815   9839.64               0        0     1   \n",
       "1   D  M2044282225  C1666544295   1864.28               0        0     1   \n",
       "2   D   C553264065  C1305486145    181.00               0        1     1   \n",
       "3   D    C38997010   C840083671    181.00               0        1     1   \n",
       "4   D  M1230701703  C2048537720  11668.14               0        0     1   \n",
       "\n",
       "       type  \n",
       "0   PAYMENT  \n",
       "1   PAYMENT  \n",
       "2  TRANSFER  \n",
       "3  CASH_OUT  \n",
       "4   PAYMENT  "
      ]
     },
     "execution_count": 12,
     "metadata": {},
     "output_type": "execute_result"
    }
   ],
   "source": [
    "df_trxn.head(5)"
   ]
  },
  {
   "cell_type": "code",
   "execution_count": 13,
   "metadata": {},
   "outputs": [],
   "source": [
    "Amount_bins = pd.DataFrame(df_trxn.amount.quantile([0.1,0.2,0.3,0.4,0.5,0.6,0.7,0.8,0.9,1]))"
   ]
  },
  {
   "cell_type": "code",
   "execution_count": 14,
   "metadata": {},
   "outputs": [],
   "source": [
    "Amount_bins_list = Amount_bins['amount'].values.tolist()"
   ]
  },
  {
   "cell_type": "code",
   "execution_count": 15,
   "metadata": {},
   "outputs": [],
   "source": [
    "bins = [0]\n"
   ]
  },
  {
   "cell_type": "code",
   "execution_count": 16,
   "metadata": {},
   "outputs": [],
   "source": [
    "for i in Amount_bins_list:\n",
    "    bins.append(i) \n",
    "    \n",
    "\n"
   ]
  },
  {
   "cell_type": "code",
   "execution_count": 17,
   "metadata": {},
   "outputs": [
    {
     "data": {
      "text/plain": [
       "[0,\n",
       " 4501.3,\n",
       " 9866.158000000003,\n",
       " 18092.02799999999,\n",
       " 36371.35000000003,\n",
       " 74871.94,\n",
       " 122563.78399999997,\n",
       " 176801.91899999985,\n",
       " 246611.22000000032,\n",
       " 365423.30899999995,\n",
       " 92445516.64]"
      ]
     },
     "execution_count": 17,
     "metadata": {},
     "output_type": "execute_result"
    }
   ],
   "source": [
    "bins"
   ]
  },
  {
   "cell_type": "code",
   "execution_count": 18,
   "metadata": {},
   "outputs": [
    {
     "data": {
      "text/plain": [
       "92445516.64"
      ]
     },
     "execution_count": 18,
     "metadata": {},
     "output_type": "execute_result"
    }
   ],
   "source": [
    "df_trxn[\"amount\"].max()\n"
   ]
  },
  {
   "cell_type": "code",
   "execution_count": 19,
   "metadata": {},
   "outputs": [],
   "source": [
    "df_trxn['Amt_bin'] = pd.cut(df_trxn['amount'], bins)"
   ]
  },
  {
   "cell_type": "code",
   "execution_count": 20,
   "metadata": {},
   "outputs": [
    {
     "data": {
      "text/html": [
       "<div>\n",
       "<style scoped>\n",
       "    .dataframe tbody tr th:only-of-type {\n",
       "        vertical-align: middle;\n",
       "    }\n",
       "\n",
       "    .dataframe tbody tr th {\n",
       "        vertical-align: top;\n",
       "    }\n",
       "\n",
       "    .dataframe thead th {\n",
       "        text-align: right;\n",
       "    }\n",
       "</style>\n",
       "<table border=\"1\" class=\"dataframe\">\n",
       "  <thead>\n",
       "    <tr style=\"text-align: right;\">\n",
       "      <th></th>\n",
       "      <th>C_D</th>\n",
       "      <th>Dest</th>\n",
       "      <th>Orig</th>\n",
       "      <th>amount</th>\n",
       "      <th>isFlaggedFraud</th>\n",
       "      <th>isFraud</th>\n",
       "      <th>step</th>\n",
       "      <th>type</th>\n",
       "      <th>Amt_bin</th>\n",
       "    </tr>\n",
       "  </thead>\n",
       "  <tbody>\n",
       "    <tr>\n",
       "      <th>0</th>\n",
       "      <td>D</td>\n",
       "      <td>M1979787155</td>\n",
       "      <td>C1231006815</td>\n",
       "      <td>9839.64</td>\n",
       "      <td>0</td>\n",
       "      <td>0</td>\n",
       "      <td>1</td>\n",
       "      <td>PAYMENT</td>\n",
       "      <td>(4501.3, 9866.158]</td>\n",
       "    </tr>\n",
       "    <tr>\n",
       "      <th>1</th>\n",
       "      <td>D</td>\n",
       "      <td>M2044282225</td>\n",
       "      <td>C1666544295</td>\n",
       "      <td>1864.28</td>\n",
       "      <td>0</td>\n",
       "      <td>0</td>\n",
       "      <td>1</td>\n",
       "      <td>PAYMENT</td>\n",
       "      <td>(0.0, 4501.3]</td>\n",
       "    </tr>\n",
       "    <tr>\n",
       "      <th>2</th>\n",
       "      <td>D</td>\n",
       "      <td>C553264065</td>\n",
       "      <td>C1305486145</td>\n",
       "      <td>181.00</td>\n",
       "      <td>0</td>\n",
       "      <td>1</td>\n",
       "      <td>1</td>\n",
       "      <td>TRANSFER</td>\n",
       "      <td>(0.0, 4501.3]</td>\n",
       "    </tr>\n",
       "    <tr>\n",
       "      <th>3</th>\n",
       "      <td>D</td>\n",
       "      <td>C38997010</td>\n",
       "      <td>C840083671</td>\n",
       "      <td>181.00</td>\n",
       "      <td>0</td>\n",
       "      <td>1</td>\n",
       "      <td>1</td>\n",
       "      <td>CASH_OUT</td>\n",
       "      <td>(0.0, 4501.3]</td>\n",
       "    </tr>\n",
       "    <tr>\n",
       "      <th>4</th>\n",
       "      <td>D</td>\n",
       "      <td>M1230701703</td>\n",
       "      <td>C2048537720</td>\n",
       "      <td>11668.14</td>\n",
       "      <td>0</td>\n",
       "      <td>0</td>\n",
       "      <td>1</td>\n",
       "      <td>PAYMENT</td>\n",
       "      <td>(9866.158, 18092.028]</td>\n",
       "    </tr>\n",
       "  </tbody>\n",
       "</table>\n",
       "</div>"
      ],
      "text/plain": [
       "  C_D         Dest         Orig    amount  isFlaggedFraud  isFraud  step  \\\n",
       "0   D  M1979787155  C1231006815   9839.64               0        0     1   \n",
       "1   D  M2044282225  C1666544295   1864.28               0        0     1   \n",
       "2   D   C553264065  C1305486145    181.00               0        1     1   \n",
       "3   D    C38997010   C840083671    181.00               0        1     1   \n",
       "4   D  M1230701703  C2048537720  11668.14               0        0     1   \n",
       "\n",
       "       type                Amt_bin  \n",
       "0   PAYMENT     (4501.3, 9866.158]  \n",
       "1   PAYMENT          (0.0, 4501.3]  \n",
       "2  TRANSFER          (0.0, 4501.3]  \n",
       "3  CASH_OUT          (0.0, 4501.3]  \n",
       "4   PAYMENT  (9866.158, 18092.028]  "
      ]
     },
     "execution_count": 20,
     "metadata": {},
     "output_type": "execute_result"
    }
   ],
   "source": [
    "df_trxn.head(5)"
   ]
  },
  {
   "cell_type": "code",
   "execution_count": 21,
   "metadata": {},
   "outputs": [
    {
     "data": {
      "text/plain": [
       "C_D                 object\n",
       "Dest                object\n",
       "Orig                object\n",
       "amount             float64\n",
       "isFlaggedFraud       int64\n",
       "isFraud              int64\n",
       "step                 int64\n",
       "type                object\n",
       "Amt_bin           category\n",
       "dtype: object"
      ]
     },
     "execution_count": 21,
     "metadata": {},
     "output_type": "execute_result"
    }
   ],
   "source": [
    "df_trxn.dtypes"
   ]
  },
  {
   "cell_type": "code",
   "execution_count": 22,
   "metadata": {},
   "outputs": [],
   "source": [
    "df_trxn['Amt_bin'] = df_trxn.Amt_bin.astype(object)"
   ]
  },
  {
   "cell_type": "code",
   "execution_count": 23,
   "metadata": {},
   "outputs": [],
   "source": [
    "# #EDA   not to be executed \n",
    "\n",
    "# df_credit.shape\n",
    "\n",
    "# df = pd.merge(df_credit, df_debit, how='inner', left_on=['nameOrig'], right_on=['nameDest'] )\n",
    "                                                                                    \n",
    "\n",
    "# df.shape\n",
    "\n",
    "# df[df.isFraud_y > 0].count() \n",
    "\n",
    "# df.columns\n",
    "\n",
    "# df.dtypes\n",
    "\n",
    "# # pd.to_datetime(df['Transaction Date'], format='%d%b%Y:%H:%M:%S.%f')\n",
    "\n",
    "# # df['date_type_check'] = len(str(df['Transaction Date']))\n",
    "\n",
    "# temp = df['type'].unique(); temp.shape; temp\n",
    "\n",
    "# temp = df.groupby('nameOrig')['nameOrig'].value_counts()\n",
    "\n",
    "# # set(df['date_type_check'])\n",
    "\n",
    "# # pd.to_datetime(df['Transaction Date'], format='%d%b%Y:%H:%M:%S.%f')\n",
    "\n",
    "\n",
    "# temp1 = pd.DataFrame(temp)\n",
    "\n",
    "# temp1[\"nameOrig\"].max()\n",
    "\n",
    "\n",
    "\n",
    "# temp1.quantile([0.1,1])\n",
    "\n",
    "# temp2 = df.groupby('nameDest')['nameDest'].value_counts()\n",
    "\n",
    "# temp3 = pd.DataFrame(temp2)\n",
    "\n",
    "# temp3[\"nameDest\"].mean()\n",
    "\n",
    "# temp3.quantile([0.1,0.8])\n",
    "\n",
    "# df.quantile([0.1,0.8])\n",
    "\n",
    "# df.tail(100)"
   ]
  },
  {
   "cell_type": "code",
   "execution_count": 24,
   "metadata": {},
   "outputs": [],
   "source": [
    "df_trxn = df_trxn.sort_values(by = ['Orig'])"
   ]
  },
  {
   "cell_type": "code",
   "execution_count": 25,
   "metadata": {},
   "outputs": [],
   "source": [
    "df_trxn[\"Tr_desc\"] = df_trxn[\"C_D\"].map(str) + '/' \\\n",
    "                     + df_trxn[\"type\"].map(str) + '/' \\\n",
    "                     + df_trxn[\"Amt_bin\"].map(str) + '/'"
   ]
  },
  {
   "cell_type": "code",
   "execution_count": 26,
   "metadata": {},
   "outputs": [
    {
     "data": {
      "text/html": [
       "<div>\n",
       "<style scoped>\n",
       "    .dataframe tbody tr th:only-of-type {\n",
       "        vertical-align: middle;\n",
       "    }\n",
       "\n",
       "    .dataframe tbody tr th {\n",
       "        vertical-align: top;\n",
       "    }\n",
       "\n",
       "    .dataframe thead th {\n",
       "        text-align: right;\n",
       "    }\n",
       "</style>\n",
       "<table border=\"1\" class=\"dataframe\">\n",
       "  <thead>\n",
       "    <tr style=\"text-align: right;\">\n",
       "      <th></th>\n",
       "      <th>C_D</th>\n",
       "      <th>Dest</th>\n",
       "      <th>Orig</th>\n",
       "      <th>amount</th>\n",
       "      <th>isFlaggedFraud</th>\n",
       "      <th>isFraud</th>\n",
       "      <th>step</th>\n",
       "      <th>type</th>\n",
       "      <th>Amt_bin</th>\n",
       "      <th>Tr_desc</th>\n",
       "    </tr>\n",
       "  </thead>\n",
       "  <tbody>\n",
       "    <tr>\n",
       "      <th>3196942</th>\n",
       "      <td>D</td>\n",
       "      <td>C785826240</td>\n",
       "      <td>C1000000639</td>\n",
       "      <td>244486.46</td>\n",
       "      <td>0</td>\n",
       "      <td>0</td>\n",
       "      <td>249</td>\n",
       "      <td>CASH_OUT</td>\n",
       "      <td>(176801.919, 246611.22]</td>\n",
       "      <td>D/CASH_OUT/(176801.919, 246611.22]/</td>\n",
       "    </tr>\n",
       "    <tr>\n",
       "      <th>2798983</th>\n",
       "      <td>D</td>\n",
       "      <td>M216466820</td>\n",
       "      <td>C1000001337</td>\n",
       "      <td>3170.28</td>\n",
       "      <td>0</td>\n",
       "      <td>0</td>\n",
       "      <td>217</td>\n",
       "      <td>PAYMENT</td>\n",
       "      <td>(0.0, 4501.3]</td>\n",
       "      <td>D/PAYMENT/(0.0, 4501.3]/</td>\n",
       "    </tr>\n",
       "    <tr>\n",
       "      <th>1013585</th>\n",
       "      <td>D</td>\n",
       "      <td>M1974356374</td>\n",
       "      <td>C1000001725</td>\n",
       "      <td>8424.74</td>\n",
       "      <td>0</td>\n",
       "      <td>0</td>\n",
       "      <td>46</td>\n",
       "      <td>PAYMENT</td>\n",
       "      <td>(4501.3, 9866.158]</td>\n",
       "      <td>D/PAYMENT/(4501.3, 9866.158]/</td>\n",
       "    </tr>\n",
       "    <tr>\n",
       "      <th>2980283</th>\n",
       "      <td>D</td>\n",
       "      <td>C503690069</td>\n",
       "      <td>C1000002591</td>\n",
       "      <td>261877.19</td>\n",
       "      <td>0</td>\n",
       "      <td>0</td>\n",
       "      <td>231</td>\n",
       "      <td>CASH_IN</td>\n",
       "      <td>(246611.22, 365423.309]</td>\n",
       "      <td>D/CASH_IN/(246611.22, 365423.309]/</td>\n",
       "    </tr>\n",
       "    <tr>\n",
       "      <th>1920204</th>\n",
       "      <td>D</td>\n",
       "      <td>C1840417793</td>\n",
       "      <td>C1000003372</td>\n",
       "      <td>20528.65</td>\n",
       "      <td>0</td>\n",
       "      <td>0</td>\n",
       "      <td>167</td>\n",
       "      <td>CASH_IN</td>\n",
       "      <td>(18092.028, 36371.35]</td>\n",
       "      <td>D/CASH_IN/(18092.028, 36371.35]/</td>\n",
       "    </tr>\n",
       "  </tbody>\n",
       "</table>\n",
       "</div>"
      ],
      "text/plain": [
       "        C_D         Dest         Orig     amount  isFlaggedFraud  isFraud  \\\n",
       "3196942   D   C785826240  C1000000639  244486.46               0        0   \n",
       "2798983   D   M216466820  C1000001337    3170.28               0        0   \n",
       "1013585   D  M1974356374  C1000001725    8424.74               0        0   \n",
       "2980283   D   C503690069  C1000002591  261877.19               0        0   \n",
       "1920204   D  C1840417793  C1000003372   20528.65               0        0   \n",
       "\n",
       "         step      type                  Amt_bin  \\\n",
       "3196942   249  CASH_OUT  (176801.919, 246611.22]   \n",
       "2798983   217   PAYMENT            (0.0, 4501.3]   \n",
       "1013585    46   PAYMENT       (4501.3, 9866.158]   \n",
       "2980283   231   CASH_IN  (246611.22, 365423.309]   \n",
       "1920204   167   CASH_IN    (18092.028, 36371.35]   \n",
       "\n",
       "                                     Tr_desc  \n",
       "3196942  D/CASH_OUT/(176801.919, 246611.22]/  \n",
       "2798983             D/PAYMENT/(0.0, 4501.3]/  \n",
       "1013585        D/PAYMENT/(4501.3, 9866.158]/  \n",
       "2980283   D/CASH_IN/(246611.22, 365423.309]/  \n",
       "1920204     D/CASH_IN/(18092.028, 36371.35]/  "
      ]
     },
     "execution_count": 26,
     "metadata": {},
     "output_type": "execute_result"
    }
   ],
   "source": [
    "df_trxn.head()"
   ]
  },
  {
   "cell_type": "code",
   "execution_count": 27,
   "metadata": {},
   "outputs": [],
   "source": [
    "df_trxn.drop(['C_D'], axis = 1, inplace = True);\n",
    "df_trxn.drop(['Dest'], axis = 1, inplace = True);\n",
    "df_trxn.drop(['amount'], axis = 1, inplace = True);\n",
    "df_trxn.drop(['type'], axis = 1, inplace = True);\n",
    "df_trxn.drop(['Amt_bin'], axis = 1, inplace = True)"
   ]
  },
  {
   "cell_type": "code",
   "execution_count": 28,
   "metadata": {},
   "outputs": [
    {
     "data": {
      "text/plain": [
       "Orig              16426\n",
       "isFlaggedFraud    16426\n",
       "isFraud           16426\n",
       "step              16426\n",
       "Tr_desc           16426\n",
       "dtype: int64"
      ]
     },
     "execution_count": 28,
     "metadata": {},
     "output_type": "execute_result"
    }
   ],
   "source": [
    " df_trxn[df_trxn.isFraud > 0].count() "
   ]
  },
  {
   "cell_type": "code",
   "execution_count": 29,
   "metadata": {},
   "outputs": [],
   "source": [
    " df_fraud_trxn = df_trxn[df_trxn.isFraud > 0]"
   ]
  },
  {
   "cell_type": "code",
   "execution_count": 30,
   "metadata": {},
   "outputs": [
    {
     "data": {
      "text/html": [
       "<div>\n",
       "<style scoped>\n",
       "    .dataframe tbody tr th:only-of-type {\n",
       "        vertical-align: middle;\n",
       "    }\n",
       "\n",
       "    .dataframe tbody tr th {\n",
       "        vertical-align: top;\n",
       "    }\n",
       "\n",
       "    .dataframe thead th {\n",
       "        text-align: right;\n",
       "    }\n",
       "</style>\n",
       "<table border=\"1\" class=\"dataframe\">\n",
       "  <thead>\n",
       "    <tr style=\"text-align: right;\">\n",
       "      <th></th>\n",
       "      <th>Orig</th>\n",
       "      <th>isFlaggedFraud</th>\n",
       "      <th>isFraud</th>\n",
       "      <th>step</th>\n",
       "      <th>Tr_desc</th>\n",
       "    </tr>\n",
       "  </thead>\n",
       "  <tbody>\n",
       "    <tr>\n",
       "      <th>6281829</th>\n",
       "      <td>C1000036340</td>\n",
       "      <td>0</td>\n",
       "      <td>1</td>\n",
       "      <td>655</td>\n",
       "      <td>D/TRANSFER/(246611.22, 365423.309]/</td>\n",
       "    </tr>\n",
       "    <tr>\n",
       "      <th>3610987</th>\n",
       "      <td>C1000039615</td>\n",
       "      <td>0</td>\n",
       "      <td>1</td>\n",
       "      <td>270</td>\n",
       "      <td>C/TRANSFER/(122563.784, 176801.919]/</td>\n",
       "    </tr>\n",
       "    <tr>\n",
       "      <th>1048222</th>\n",
       "      <td>C1000086512</td>\n",
       "      <td>0</td>\n",
       "      <td>1</td>\n",
       "      <td>95</td>\n",
       "      <td>D/CASH_OUT/(18092.028, 36371.35]/</td>\n",
       "    </tr>\n",
       "    <tr>\n",
       "      <th>3585606</th>\n",
       "      <td>C1000331499</td>\n",
       "      <td>0</td>\n",
       "      <td>1</td>\n",
       "      <td>262</td>\n",
       "      <td>D/TRANSFER/(365423.309, 92445516.64]/</td>\n",
       "    </tr>\n",
       "    <tr>\n",
       "      <th>6201653</th>\n",
       "      <td>C1000367306</td>\n",
       "      <td>0</td>\n",
       "      <td>1</td>\n",
       "      <td>578</td>\n",
       "      <td>C/TRANSFER/(176801.919, 246611.22]/</td>\n",
       "    </tr>\n",
       "  </tbody>\n",
       "</table>\n",
       "</div>"
      ],
      "text/plain": [
       "                Orig  isFlaggedFraud  isFraud  step  \\\n",
       "6281829  C1000036340               0        1   655   \n",
       "3610987  C1000039615               0        1   270   \n",
       "1048222  C1000086512               0        1    95   \n",
       "3585606  C1000331499               0        1   262   \n",
       "6201653  C1000367306               0        1   578   \n",
       "\n",
       "                                       Tr_desc  \n",
       "6281829    D/TRANSFER/(246611.22, 365423.309]/  \n",
       "3610987   C/TRANSFER/(122563.784, 176801.919]/  \n",
       "1048222      D/CASH_OUT/(18092.028, 36371.35]/  \n",
       "3585606  D/TRANSFER/(365423.309, 92445516.64]/  \n",
       "6201653    C/TRANSFER/(176801.919, 246611.22]/  "
      ]
     },
     "execution_count": 30,
     "metadata": {},
     "output_type": "execute_result"
    }
   ],
   "source": [
    "df_fraud_trxn.shape; df_fraud_trxn.head(5)"
   ]
  },
  {
   "cell_type": "code",
   "execution_count": 31,
   "metadata": {},
   "outputs": [
    {
     "data": {
      "text/plain": [
       "(12725240, 5)"
      ]
     },
     "execution_count": 31,
     "metadata": {},
     "output_type": "execute_result"
    }
   ],
   "source": [
    "df_trxn.shape"
   ]
  },
  {
   "cell_type": "code",
   "execution_count": 32,
   "metadata": {},
   "outputs": [],
   "source": [
    "df_trxn1 = df_trxn.groupby(['Orig'],as_index=False).agg(lambda Tr_desc : ';'.join(Tr_desc))"
   ]
  },
  {
   "cell_type": "code",
   "execution_count": 33,
   "metadata": {},
   "outputs": [
    {
     "data": {
      "text/plain": [
       "(9073900, 2)"
      ]
     },
     "execution_count": 33,
     "metadata": {},
     "output_type": "execute_result"
    }
   ],
   "source": [
    "df_trxn1.shape"
   ]
  },
  {
   "cell_type": "code",
   "execution_count": 34,
   "metadata": {},
   "outputs": [
    {
     "data": {
      "text/html": [
       "<div>\n",
       "<style scoped>\n",
       "    .dataframe tbody tr th:only-of-type {\n",
       "        vertical-align: middle;\n",
       "    }\n",
       "\n",
       "    .dataframe tbody tr th {\n",
       "        vertical-align: top;\n",
       "    }\n",
       "\n",
       "    .dataframe thead th {\n",
       "        text-align: right;\n",
       "    }\n",
       "</style>\n",
       "<table border=\"1\" class=\"dataframe\">\n",
       "  <thead>\n",
       "    <tr style=\"text-align: right;\">\n",
       "      <th></th>\n",
       "      <th>Orig</th>\n",
       "      <th>Tr_desc</th>\n",
       "    </tr>\n",
       "  </thead>\n",
       "  <tbody>\n",
       "    <tr>\n",
       "      <th>0</th>\n",
       "      <td>C1000000639</td>\n",
       "      <td>D/CASH_OUT/(176801.919, 246611.22]/</td>\n",
       "    </tr>\n",
       "    <tr>\n",
       "      <th>1</th>\n",
       "      <td>C1000001337</td>\n",
       "      <td>D/PAYMENT/(0.0, 4501.3]/</td>\n",
       "    </tr>\n",
       "    <tr>\n",
       "      <th>2</th>\n",
       "      <td>C1000001725</td>\n",
       "      <td>D/PAYMENT/(4501.3, 9866.158]/</td>\n",
       "    </tr>\n",
       "    <tr>\n",
       "      <th>3</th>\n",
       "      <td>C1000002591</td>\n",
       "      <td>D/CASH_IN/(246611.22, 365423.309]/</td>\n",
       "    </tr>\n",
       "    <tr>\n",
       "      <th>4</th>\n",
       "      <td>C1000003372</td>\n",
       "      <td>D/CASH_IN/(18092.028, 36371.35]/</td>\n",
       "    </tr>\n",
       "    <tr>\n",
       "      <th>5</th>\n",
       "      <td>C1000003615</td>\n",
       "      <td>D/CASH_IN/(36371.35, 74871.94]/</td>\n",
       "    </tr>\n",
       "    <tr>\n",
       "      <th>6</th>\n",
       "      <td>C1000004053</td>\n",
       "      <td>D/CASH_OUT/(176801.919, 246611.22]/</td>\n",
       "    </tr>\n",
       "    <tr>\n",
       "      <th>7</th>\n",
       "      <td>C1000004082</td>\n",
       "      <td>C/CASH_IN/(122563.784, 176801.919]/;C/TRANSFER...</td>\n",
       "    </tr>\n",
       "    <tr>\n",
       "      <th>8</th>\n",
       "      <td>C1000004530</td>\n",
       "      <td>D/CASH_OUT/(74871.94, 122563.784]/</td>\n",
       "    </tr>\n",
       "    <tr>\n",
       "      <th>9</th>\n",
       "      <td>C1000004940</td>\n",
       "      <td>C/CASH_OUT/(36371.35, 74871.94]/;C/CASH_OUT/(1...</td>\n",
       "    </tr>\n",
       "    <tr>\n",
       "      <th>10</th>\n",
       "      <td>C1000005353</td>\n",
       "      <td>D/TRANSFER/(365423.309, 92445516.64]/</td>\n",
       "    </tr>\n",
       "    <tr>\n",
       "      <th>11</th>\n",
       "      <td>C1000005555</td>\n",
       "      <td>D/CASH_OUT/(176801.919, 246611.22]/</td>\n",
       "    </tr>\n",
       "    <tr>\n",
       "      <th>12</th>\n",
       "      <td>C1000005749</td>\n",
       "      <td>D/TRANSFER/(365423.309, 92445516.64]/</td>\n",
       "    </tr>\n",
       "    <tr>\n",
       "      <th>13</th>\n",
       "      <td>C1000005789</td>\n",
       "      <td>D/CASH_IN/(18092.028, 36371.35]/</td>\n",
       "    </tr>\n",
       "    <tr>\n",
       "      <th>14</th>\n",
       "      <td>C1000006646</td>\n",
       "      <td>D/CASH_IN/(74871.94, 122563.784]/</td>\n",
       "    </tr>\n",
       "  </tbody>\n",
       "</table>\n",
       "</div>"
      ],
      "text/plain": [
       "           Orig                                            Tr_desc\n",
       "0   C1000000639                D/CASH_OUT/(176801.919, 246611.22]/\n",
       "1   C1000001337                           D/PAYMENT/(0.0, 4501.3]/\n",
       "2   C1000001725                      D/PAYMENT/(4501.3, 9866.158]/\n",
       "3   C1000002591                 D/CASH_IN/(246611.22, 365423.309]/\n",
       "4   C1000003372                   D/CASH_IN/(18092.028, 36371.35]/\n",
       "5   C1000003615                    D/CASH_IN/(36371.35, 74871.94]/\n",
       "6   C1000004053                D/CASH_OUT/(176801.919, 246611.22]/\n",
       "7   C1000004082  C/CASH_IN/(122563.784, 176801.919]/;C/TRANSFER...\n",
       "8   C1000004530                 D/CASH_OUT/(74871.94, 122563.784]/\n",
       "9   C1000004940  C/CASH_OUT/(36371.35, 74871.94]/;C/CASH_OUT/(1...\n",
       "10  C1000005353              D/TRANSFER/(365423.309, 92445516.64]/\n",
       "11  C1000005555                D/CASH_OUT/(176801.919, 246611.22]/\n",
       "12  C1000005749              D/TRANSFER/(365423.309, 92445516.64]/\n",
       "13  C1000005789                   D/CASH_IN/(18092.028, 36371.35]/\n",
       "14  C1000006646                  D/CASH_IN/(74871.94, 122563.784]/"
      ]
     },
     "execution_count": 34,
     "metadata": {},
     "output_type": "execute_result"
    }
   ],
   "source": [
    "df_trxn1.head(15)  "
   ]
  },
  {
   "cell_type": "code",
   "execution_count": 35,
   "metadata": {},
   "outputs": [],
   "source": [
    "#df_trxn1[df_trxn1['C_D'].str.contains('C;D')]\n"
   ]
  },
  {
   "cell_type": "code",
   "execution_count": 36,
   "metadata": {},
   "outputs": [],
   "source": [
    "df_trxn1['isFraud'] = 0"
   ]
  },
  {
   "cell_type": "code",
   "execution_count": 37,
   "metadata": {},
   "outputs": [
    {
     "data": {
      "text/html": [
       "<div>\n",
       "<style scoped>\n",
       "    .dataframe tbody tr th:only-of-type {\n",
       "        vertical-align: middle;\n",
       "    }\n",
       "\n",
       "    .dataframe tbody tr th {\n",
       "        vertical-align: top;\n",
       "    }\n",
       "\n",
       "    .dataframe thead th {\n",
       "        text-align: right;\n",
       "    }\n",
       "</style>\n",
       "<table border=\"1\" class=\"dataframe\">\n",
       "  <thead>\n",
       "    <tr style=\"text-align: right;\">\n",
       "      <th></th>\n",
       "      <th>Orig</th>\n",
       "      <th>Tr_desc</th>\n",
       "      <th>isFraud</th>\n",
       "    </tr>\n",
       "  </thead>\n",
       "  <tbody>\n",
       "    <tr>\n",
       "      <th>0</th>\n",
       "      <td>C1000000639</td>\n",
       "      <td>D/CASH_OUT/(176801.919, 246611.22]/</td>\n",
       "      <td>0</td>\n",
       "    </tr>\n",
       "    <tr>\n",
       "      <th>1</th>\n",
       "      <td>C1000001337</td>\n",
       "      <td>D/PAYMENT/(0.0, 4501.3]/</td>\n",
       "      <td>0</td>\n",
       "    </tr>\n",
       "    <tr>\n",
       "      <th>2</th>\n",
       "      <td>C1000001725</td>\n",
       "      <td>D/PAYMENT/(4501.3, 9866.158]/</td>\n",
       "      <td>0</td>\n",
       "    </tr>\n",
       "    <tr>\n",
       "      <th>3</th>\n",
       "      <td>C1000002591</td>\n",
       "      <td>D/CASH_IN/(246611.22, 365423.309]/</td>\n",
       "      <td>0</td>\n",
       "    </tr>\n",
       "    <tr>\n",
       "      <th>4</th>\n",
       "      <td>C1000003372</td>\n",
       "      <td>D/CASH_IN/(18092.028, 36371.35]/</td>\n",
       "      <td>0</td>\n",
       "    </tr>\n",
       "  </tbody>\n",
       "</table>\n",
       "</div>"
      ],
      "text/plain": [
       "          Orig                              Tr_desc  isFraud\n",
       "0  C1000000639  D/CASH_OUT/(176801.919, 246611.22]/        0\n",
       "1  C1000001337             D/PAYMENT/(0.0, 4501.3]/        0\n",
       "2  C1000001725        D/PAYMENT/(4501.3, 9866.158]/        0\n",
       "3  C1000002591   D/CASH_IN/(246611.22, 365423.309]/        0\n",
       "4  C1000003372     D/CASH_IN/(18092.028, 36371.35]/        0"
      ]
     },
     "execution_count": 37,
     "metadata": {},
     "output_type": "execute_result"
    }
   ],
   "source": [
    "df_trxn1.head(5)"
   ]
  },
  {
   "cell_type": "code",
   "execution_count": 38,
   "metadata": {},
   "outputs": [
    {
     "data": {
      "text/plain": [
       "Orig              object\n",
       "isFlaggedFraud     int64\n",
       "isFraud            int64\n",
       "step               int64\n",
       "Tr_desc           object\n",
       "dtype: object"
      ]
     },
     "execution_count": 38,
     "metadata": {},
     "output_type": "execute_result"
    }
   ],
   "source": [
    "df_fraud_trxn.dtypes"
   ]
  },
  {
   "cell_type": "code",
   "execution_count": 39,
   "metadata": {},
   "outputs": [
    {
     "data": {
      "text/plain": [
       "Orig       object\n",
       "Tr_desc    object\n",
       "isFraud     int64\n",
       "dtype: object"
      ]
     },
     "execution_count": 39,
     "metadata": {},
     "output_type": "execute_result"
    }
   ],
   "source": [
    "df_trxn1.dtypes"
   ]
  },
  {
   "cell_type": "code",
   "execution_count": 40,
   "metadata": {},
   "outputs": [
    {
     "data": {
      "text/html": [
       "<div>\n",
       "<style scoped>\n",
       "    .dataframe tbody tr th:only-of-type {\n",
       "        vertical-align: middle;\n",
       "    }\n",
       "\n",
       "    .dataframe tbody tr th {\n",
       "        vertical-align: top;\n",
       "    }\n",
       "\n",
       "    .dataframe thead th {\n",
       "        text-align: right;\n",
       "    }\n",
       "</style>\n",
       "<table border=\"1\" class=\"dataframe\">\n",
       "  <thead>\n",
       "    <tr style=\"text-align: right;\">\n",
       "      <th></th>\n",
       "      <th>Orig</th>\n",
       "      <th>isFlaggedFraud</th>\n",
       "      <th>isFraud</th>\n",
       "      <th>step</th>\n",
       "      <th>Tr_desc</th>\n",
       "    </tr>\n",
       "  </thead>\n",
       "  <tbody>\n",
       "    <tr>\n",
       "      <th>6281829</th>\n",
       "      <td>C1000036340</td>\n",
       "      <td>0</td>\n",
       "      <td>1</td>\n",
       "      <td>655</td>\n",
       "      <td>D/TRANSFER/(246611.22, 365423.309]/</td>\n",
       "    </tr>\n",
       "  </tbody>\n",
       "</table>\n",
       "</div>"
      ],
      "text/plain": [
       "                Orig  isFlaggedFraud  isFraud  step  \\\n",
       "6281829  C1000036340               0        1   655   \n",
       "\n",
       "                                     Tr_desc  \n",
       "6281829  D/TRANSFER/(246611.22, 365423.309]/  "
      ]
     },
     "execution_count": 40,
     "metadata": {},
     "output_type": "execute_result"
    }
   ],
   "source": [
    "df_fraud_trxn[df_fraud_trxn.Orig == 'C1000036340']"
   ]
  },
  {
   "cell_type": "code",
   "execution_count": 41,
   "metadata": {},
   "outputs": [
    {
     "data": {
      "text/html": [
       "<div>\n",
       "<style scoped>\n",
       "    .dataframe tbody tr th:only-of-type {\n",
       "        vertical-align: middle;\n",
       "    }\n",
       "\n",
       "    .dataframe tbody tr th {\n",
       "        vertical-align: top;\n",
       "    }\n",
       "\n",
       "    .dataframe thead th {\n",
       "        text-align: right;\n",
       "    }\n",
       "</style>\n",
       "<table border=\"1\" class=\"dataframe\">\n",
       "  <thead>\n",
       "    <tr style=\"text-align: right;\">\n",
       "      <th></th>\n",
       "      <th>Orig</th>\n",
       "      <th>Tr_desc</th>\n",
       "      <th>isFraud</th>\n",
       "    </tr>\n",
       "  </thead>\n",
       "  <tbody>\n",
       "    <tr>\n",
       "      <th>103</th>\n",
       "      <td>C1000036340</td>\n",
       "      <td>D/TRANSFER/(246611.22, 365423.309]/</td>\n",
       "      <td>0</td>\n",
       "    </tr>\n",
       "  </tbody>\n",
       "</table>\n",
       "</div>"
      ],
      "text/plain": [
       "            Orig                              Tr_desc  isFraud\n",
       "103  C1000036340  D/TRANSFER/(246611.22, 365423.309]/        0"
      ]
     },
     "execution_count": 41,
     "metadata": {},
     "output_type": "execute_result"
    }
   ],
   "source": [
    "df_trxn1[df_trxn1.Orig == 'C1000036340']"
   ]
  },
  {
   "cell_type": "code",
   "execution_count": 42,
   "metadata": {},
   "outputs": [],
   "source": [
    "df_trxn_summ = pd.merge(df_trxn1, df_fraud_trxn, how='left', on = 'Orig' )"
   ]
  },
  {
   "cell_type": "code",
   "execution_count": 43,
   "metadata": {},
   "outputs": [
    {
     "data": {
      "text/html": [
       "<div>\n",
       "<style scoped>\n",
       "    .dataframe tbody tr th:only-of-type {\n",
       "        vertical-align: middle;\n",
       "    }\n",
       "\n",
       "    .dataframe tbody tr th {\n",
       "        vertical-align: top;\n",
       "    }\n",
       "\n",
       "    .dataframe thead th {\n",
       "        text-align: right;\n",
       "    }\n",
       "</style>\n",
       "<table border=\"1\" class=\"dataframe\">\n",
       "  <thead>\n",
       "    <tr style=\"text-align: right;\">\n",
       "      <th></th>\n",
       "      <th>Orig</th>\n",
       "      <th>Tr_desc_x</th>\n",
       "      <th>isFraud_x</th>\n",
       "      <th>isFlaggedFraud</th>\n",
       "      <th>isFraud_y</th>\n",
       "      <th>step</th>\n",
       "      <th>Tr_desc_y</th>\n",
       "    </tr>\n",
       "  </thead>\n",
       "  <tbody>\n",
       "    <tr>\n",
       "      <th>103</th>\n",
       "      <td>C1000036340</td>\n",
       "      <td>D/TRANSFER/(246611.22, 365423.309]/</td>\n",
       "      <td>0</td>\n",
       "      <td>0.0</td>\n",
       "      <td>1.0</td>\n",
       "      <td>655.0</td>\n",
       "      <td>D/TRANSFER/(246611.22, 365423.309]/</td>\n",
       "    </tr>\n",
       "  </tbody>\n",
       "</table>\n",
       "</div>"
      ],
      "text/plain": [
       "            Orig                            Tr_desc_x  isFraud_x  \\\n",
       "103  C1000036340  D/TRANSFER/(246611.22, 365423.309]/          0   \n",
       "\n",
       "     isFlaggedFraud  isFraud_y   step                            Tr_desc_y  \n",
       "103             0.0        1.0  655.0  D/TRANSFER/(246611.22, 365423.309]/  "
      ]
     },
     "execution_count": 43,
     "metadata": {},
     "output_type": "execute_result"
    }
   ],
   "source": [
    "df_trxn_summ[df_trxn_summ.Orig == 'C1000036340']"
   ]
  },
  {
   "cell_type": "code",
   "execution_count": 44,
   "metadata": {},
   "outputs": [
    {
     "data": {
      "text/html": [
       "<div>\n",
       "<style scoped>\n",
       "    .dataframe tbody tr th:only-of-type {\n",
       "        vertical-align: middle;\n",
       "    }\n",
       "\n",
       "    .dataframe tbody tr th {\n",
       "        vertical-align: top;\n",
       "    }\n",
       "\n",
       "    .dataframe thead th {\n",
       "        text-align: right;\n",
       "    }\n",
       "</style>\n",
       "<table border=\"1\" class=\"dataframe\">\n",
       "  <thead>\n",
       "    <tr style=\"text-align: right;\">\n",
       "      <th></th>\n",
       "      <th>Orig</th>\n",
       "      <th>Tr_desc_x</th>\n",
       "      <th>isFraud_x</th>\n",
       "      <th>isFlaggedFraud</th>\n",
       "      <th>isFraud_y</th>\n",
       "      <th>step</th>\n",
       "      <th>Tr_desc_y</th>\n",
       "    </tr>\n",
       "  </thead>\n",
       "  <tbody>\n",
       "    <tr>\n",
       "      <th>0</th>\n",
       "      <td>C1000000639</td>\n",
       "      <td>D/CASH_OUT/(176801.919, 246611.22]/</td>\n",
       "      <td>0</td>\n",
       "      <td>NaN</td>\n",
       "      <td>NaN</td>\n",
       "      <td>NaN</td>\n",
       "      <td>NaN</td>\n",
       "    </tr>\n",
       "  </tbody>\n",
       "</table>\n",
       "</div>"
      ],
      "text/plain": [
       "          Orig                            Tr_desc_x  isFraud_x  \\\n",
       "0  C1000000639  D/CASH_OUT/(176801.919, 246611.22]/          0   \n",
       "\n",
       "   isFlaggedFraud  isFraud_y  step Tr_desc_y  \n",
       "0             NaN        NaN   NaN       NaN  "
      ]
     },
     "execution_count": 44,
     "metadata": {},
     "output_type": "execute_result"
    }
   ],
   "source": [
    "df_trxn_summ[df_trxn_summ.Orig == 'C1000000639']"
   ]
  },
  {
   "cell_type": "code",
   "execution_count": 45,
   "metadata": {},
   "outputs": [],
   "source": [
    "df_trxn_summ['isFraud_x'] = np.where( df_trxn_summ['isFraud_y'] == 1.0 , 1, 0 )"
   ]
  },
  {
   "cell_type": "code",
   "execution_count": 46,
   "metadata": {},
   "outputs": [
    {
     "data": {
      "text/html": [
       "<div>\n",
       "<style scoped>\n",
       "    .dataframe tbody tr th:only-of-type {\n",
       "        vertical-align: middle;\n",
       "    }\n",
       "\n",
       "    .dataframe tbody tr th {\n",
       "        vertical-align: top;\n",
       "    }\n",
       "\n",
       "    .dataframe thead th {\n",
       "        text-align: right;\n",
       "    }\n",
       "</style>\n",
       "<table border=\"1\" class=\"dataframe\">\n",
       "  <thead>\n",
       "    <tr style=\"text-align: right;\">\n",
       "      <th></th>\n",
       "      <th>Orig</th>\n",
       "      <th>Tr_desc_x</th>\n",
       "      <th>isFraud_x</th>\n",
       "      <th>isFlaggedFraud</th>\n",
       "      <th>isFraud_y</th>\n",
       "      <th>step</th>\n",
       "      <th>Tr_desc_y</th>\n",
       "    </tr>\n",
       "  </thead>\n",
       "  <tbody>\n",
       "    <tr>\n",
       "      <th>103</th>\n",
       "      <td>C1000036340</td>\n",
       "      <td>D/TRANSFER/(246611.22, 365423.309]/</td>\n",
       "      <td>1</td>\n",
       "      <td>0.0</td>\n",
       "      <td>1.0</td>\n",
       "      <td>655.0</td>\n",
       "      <td>D/TRANSFER/(246611.22, 365423.309]/</td>\n",
       "    </tr>\n",
       "  </tbody>\n",
       "</table>\n",
       "</div>"
      ],
      "text/plain": [
       "            Orig                            Tr_desc_x  isFraud_x  \\\n",
       "103  C1000036340  D/TRANSFER/(246611.22, 365423.309]/          1   \n",
       "\n",
       "     isFlaggedFraud  isFraud_y   step                            Tr_desc_y  \n",
       "103             0.0        1.0  655.0  D/TRANSFER/(246611.22, 365423.309]/  "
      ]
     },
     "execution_count": 46,
     "metadata": {},
     "output_type": "execute_result"
    }
   ],
   "source": [
    "df_trxn_summ[df_trxn_summ.Orig == 'C1000036340']"
   ]
  },
  {
   "cell_type": "code",
   "execution_count": 47,
   "metadata": {},
   "outputs": [
    {
     "data": {
      "text/plain": [
       "Orig               object\n",
       "Tr_desc_x          object\n",
       "isFraud_x           int32\n",
       "isFlaggedFraud    float64\n",
       "isFraud_y         float64\n",
       "step              float64\n",
       "Tr_desc_y          object\n",
       "dtype: object"
      ]
     },
     "execution_count": 47,
     "metadata": {},
     "output_type": "execute_result"
    }
   ],
   "source": [
    "df_trxn_summ.dtypes"
   ]
  },
  {
   "cell_type": "code",
   "execution_count": 48,
   "metadata": {},
   "outputs": [],
   "source": [
    "df_trxn_summ.drop(['step'], axis = 1, inplace = True);\n",
    "df_trxn_summ.drop(['isFraud_y'], axis = 1, inplace = True);\n",
    "df_trxn_summ.drop(['isFlaggedFraud'], axis = 1, inplace = True);\n",
    "df_trxn_summ.drop(['Tr_desc_y'], axis = 1, inplace = True);\n",
    "\n"
   ]
  },
  {
   "cell_type": "code",
   "execution_count": 49,
   "metadata": {},
   "outputs": [
    {
     "data": {
      "text/plain": [
       "(9073944, 3)"
      ]
     },
     "execution_count": 49,
     "metadata": {},
     "output_type": "execute_result"
    }
   ],
   "source": [
    "df_trxn_summ.shape"
   ]
  },
  {
   "cell_type": "code",
   "execution_count": 50,
   "metadata": {},
   "outputs": [
    {
     "data": {
      "text/plain": [
       "Orig         0.001814\n",
       "Tr_desc_x    0.001814\n",
       "isFraud_x    0.001814\n",
       "dtype: float64"
      ]
     },
     "execution_count": 50,
     "metadata": {},
     "output_type": "execute_result"
    }
   ],
   "source": [
    "df_trxn_summ[df_trxn_summ.isFraud_x == 1].count() / df_trxn_summ[df_trxn_summ.isFraud_x == 0].count()"
   ]
  },
  {
   "cell_type": "code",
   "execution_count": 51,
   "metadata": {},
   "outputs": [
    {
     "data": {
      "text/plain": [
       "0    9057518\n",
       "1      16426\n",
       "Name: isFraud_x, dtype: int64"
      ]
     },
     "execution_count": 51,
     "metadata": {},
     "output_type": "execute_result"
    }
   ],
   "source": [
    "df_trxn_summ['isFraud_x'].value_counts()"
   ]
  },
  {
   "cell_type": "code",
   "execution_count": 52,
   "metadata": {},
   "outputs": [
    {
     "data": {
      "text/plain": [
       "0          False\n",
       "1          False\n",
       "2          False\n",
       "3          False\n",
       "4          False\n",
       "5          False\n",
       "6          False\n",
       "7          False\n",
       "8          False\n",
       "9          False\n",
       "10         False\n",
       "11         False\n",
       "12         False\n",
       "13         False\n",
       "14         False\n",
       "15         False\n",
       "16         False\n",
       "17         False\n",
       "18         False\n",
       "19         False\n",
       "20         False\n",
       "21         False\n",
       "22         False\n",
       "23         False\n",
       "24         False\n",
       "25         False\n",
       "26         False\n",
       "27         False\n",
       "28         False\n",
       "29         False\n",
       "           ...  \n",
       "9073914    False\n",
       "9073915    False\n",
       "9073916    False\n",
       "9073917    False\n",
       "9073918    False\n",
       "9073919    False\n",
       "9073920    False\n",
       "9073921    False\n",
       "9073922    False\n",
       "9073923    False\n",
       "9073924    False\n",
       "9073925    False\n",
       "9073926    False\n",
       "9073927    False\n",
       "9073928    False\n",
       "9073929    False\n",
       "9073930    False\n",
       "9073931    False\n",
       "9073932    False\n",
       "9073933    False\n",
       "9073934    False\n",
       "9073935    False\n",
       "9073936    False\n",
       "9073937    False\n",
       "9073938    False\n",
       "9073939    False\n",
       "9073940    False\n",
       "9073941    False\n",
       "9073942    False\n",
       "9073943    False\n",
       "Name: isFraud_x, Length: 9073944, dtype: bool"
      ]
     },
     "execution_count": 52,
     "metadata": {},
     "output_type": "execute_result"
    }
   ],
   "source": [
    "df_trxn_summ[\"isFraud_x\"] == 1"
   ]
  },
  {
   "cell_type": "code",
   "execution_count": 53,
   "metadata": {},
   "outputs": [
    {
     "data": {
      "text/plain": [
       "Orig         10853\n",
       "Tr_desc_x    10853\n",
       "isFraud_x    10853\n",
       "dtype: int64"
      ]
     },
     "execution_count": 53,
     "metadata": {},
     "output_type": "execute_result"
    }
   ],
   "source": [
    "df_trxn_summ[(df_trxn_summ.Tr_desc_x.str.count('/') == 3 ) & ( df_trxn_summ[\"isFraud_x\"] == 1 )  ].count()"
   ]
  },
  {
   "cell_type": "code",
   "execution_count": 54,
   "metadata": {},
   "outputs": [
    {
     "data": {
      "text/plain": [
       "16426"
      ]
     },
     "execution_count": 54,
     "metadata": {},
     "output_type": "execute_result"
    }
   ],
   "source": [
    "no_frauds = len(df_trxn_summ[df_trxn_summ['isFraud_x'] == 1]); no_frauds"
   ]
  },
  {
   "cell_type": "code",
   "execution_count": 55,
   "metadata": {},
   "outputs": [],
   "source": [
    "no_frauds = len(df_trxn_summ[df_trxn_summ['isFraud_x'] == 1]);\n",
    "fraud_indices = df_trxn_summ[df_trxn_summ.isFraud_x == 1].index\n",
    "non_fraud_indices = df_trxn_summ[df_trxn_summ.isFraud_x == 0].index;\n",
    "random_indices = np.random.choice(non_fraud_indices,100000, replace=False);\n",
    "under_sample_indices = np.concatenate([fraud_indices,random_indices]);\n",
    "under_sample = df_trxn_summ.loc[under_sample_indices]\n"
   ]
  },
  {
   "cell_type": "code",
   "execution_count": 56,
   "metadata": {},
   "outputs": [
    {
     "data": {
      "text/plain": [
       "pandas.core.frame.DataFrame"
      ]
     },
     "execution_count": 56,
     "metadata": {},
     "output_type": "execute_result"
    }
   ],
   "source": [
    "type(under_sample)"
   ]
  },
  {
   "cell_type": "code",
   "execution_count": 57,
   "metadata": {},
   "outputs": [
    {
     "data": {
      "text/plain": [
       "(116426, 3)"
      ]
     },
     "execution_count": 57,
     "metadata": {},
     "output_type": "execute_result"
    }
   ],
   "source": [
    "under_sample.shape"
   ]
  },
  {
   "cell_type": "code",
   "execution_count": 58,
   "metadata": {},
   "outputs": [
    {
     "data": {
      "text/plain": [
       "<bound method NDFrame.head of                 Orig                                          Tr_desc_x  \\\n",
       "103      C1000036340                D/TRANSFER/(246611.22, 365423.309]/   \n",
       "119      C1000039615  C/TRANSFER/(122563.784, 176801.919]/;C/CASH_IN...   \n",
       "288      C1000086512                  D/CASH_OUT/(18092.028, 36371.35]/   \n",
       "1160     C1000331499              D/TRANSFER/(365423.309, 92445516.64]/   \n",
       "1294     C1000367306                C/TRANSFER/(176801.919, 246611.22]/   \n",
       "1428     C1000407130              C/TRANSFER/(365423.309, 92445516.64]/   \n",
       "1700     C1000484178              D/CASH_OUT/(365423.309, 92445516.64]/   \n",
       "1804     C1000513158                   D/TRANSFER/(36371.35, 74871.94]/   \n",
       "3024     C1000836187              C/TRANSFER/(365423.309, 92445516.64]/   \n",
       "3102     C1000855680  C/TRANSFER/(365423.309, 92445516.64]/;C/CASH_I...   \n",
       "3149     C1000868784              C/TRANSFER/(365423.309, 92445516.64]/   \n",
       "3396     C1000937208              D/TRANSFER/(365423.309, 92445516.64]/   \n",
       "4519     C1001258143  C/TRANSFER/(246611.22, 365423.309]/;C/CASH_OUT...   \n",
       "5393     C1001502110              D/TRANSFER/(365423.309, 92445516.64]/   \n",
       "5967     C1001664465                     C/TRANSFER/(4501.3, 9866.158]/   \n",
       "6335     C1001765380                D/CASH_OUT/(246611.22, 365423.309]/   \n",
       "6721     C1001875185              D/TRANSFER/(365423.309, 92445516.64]/   \n",
       "7272     C1002031672  C/TRANSFER/(74871.94, 122563.784]/;C/CASH_OUT/...   \n",
       "7739     C1002151702              C/TRANSFER/(365423.309, 92445516.64]/   \n",
       "7865     C1002183297  C/CASH_OUT/(176801.919, 246611.22]/;C/CASH_OUT...   \n",
       "8041     C1002233012                C/TRANSFER/(176801.919, 246611.22]/   \n",
       "8833     C1002446735              D/CASH_OUT/(365423.309, 92445516.64]/   \n",
       "8864     C1002454874              C/TRANSFER/(365423.309, 92445516.64]/   \n",
       "8918     C1002469873  C/TRANSFER/(365423.309, 92445516.64]/;C/CASH_O...   \n",
       "9198     C1002538556              C/TRANSFER/(365423.309, 92445516.64]/   \n",
       "10336    C1002859898              D/TRANSFER/(365423.309, 92445516.64]/   \n",
       "10459    C1002895272                          D/TRANSFER/(0.0, 4501.3]/   \n",
       "10598    C1002939134  C/CASH_OUT/(36371.35, 74871.94]/;C/TRANSFER/(3...   \n",
       "10643    C1002952732  C/CASH_OUT/(176801.919, 246611.22]/;C/CASH_OUT...   \n",
       "10897    C1003023037               D/CASH_OUT/(122563.784, 176801.919]/   \n",
       "...              ...                                                ...   \n",
       "7794689  M1782524155                   C/PAYMENT/(9866.158, 18092.028]/   \n",
       "8089165   M204750973                   C/PAYMENT/(18092.028, 36371.35]/   \n",
       "8157502  M2109238969                    C/PAYMENT/(36371.35, 74871.94]/   \n",
       "7051445  M1114725200                   C/PAYMENT/(18092.028, 36371.35]/   \n",
       "5839193   C697539114                D/CASH_OUT/(176801.919, 246611.22]/   \n",
       "5853372    C70149802                D/CASH_OUT/(176801.919, 246611.22]/   \n",
       "8945615   M884943837                           C/PAYMENT/(0.0, 4501.3]/   \n",
       "3733515  C2042476155                  D/CASH_OUT/(18092.028, 36371.35]/   \n",
       "1048766  C1293380174               D/CASH_OUT/(122563.784, 176801.919]/   \n",
       "7886465  M1865138298                    C/PAYMENT/(36371.35, 74871.94]/   \n",
       "4168117   C231013044                   D/PAYMENT/(18092.028, 36371.35]/   \n",
       "2784193  C1777786207                D/CASH_OUT/(246611.22, 365423.309]/   \n",
       "6639286   C920526023                D/CASH_OUT/(176801.919, 246611.22]/   \n",
       "129548   C1036200678              D/TRANSFER/(365423.309, 92445516.64]/   \n",
       "2380870  C1665202957                      D/PAYMENT/(4501.3, 9866.158]/   \n",
       "2607414  C1728384825                 D/CASH_OUT/(74871.94, 122563.784]/   \n",
       "9017085    M94907051                           C/PAYMENT/(0.0, 4501.3]/   \n",
       "3001395  C1838290740                          D/CASH_OUT/(0.0, 4501.3]/   \n",
       "5304670   C548454436  C/CASH_OUT/(122563.784, 176801.919]/;C/CASH_OU...   \n",
       "3869553  C2080579369                   D/CASH_OUT/(36371.35, 74871.94]/   \n",
       "508717   C1142440707                  D/CASH_OUT/(18092.028, 36371.35]/   \n",
       "2291904  C1640308378                  D/CASH_IN/(74871.94, 122563.784]/   \n",
       "2663425  C1744108293                  D/CASH_IN/(74871.94, 122563.784]/   \n",
       "6589339   C906564755                          D/CASH_OUT/(0.0, 4501.3]/   \n",
       "7489217  M1508253125                   C/PAYMENT/(9866.158, 18092.028]/   \n",
       "4077187  C2138404906                   D/PAYMENT/(9866.158, 18092.028]/   \n",
       "86445    C1024162752               D/CASH_IN/(365423.309, 92445516.64]/   \n",
       "481710   C1134833567                D/CASH_OUT/(246611.22, 365423.309]/   \n",
       "3987569  C2113471943                   D/CASH_OUT/(36371.35, 74871.94]/   \n",
       "2838097   C179281922                      D/PAYMENT/(4501.3, 9866.158]/   \n",
       "\n",
       "         isFraud_x  \n",
       "103              1  \n",
       "119              1  \n",
       "288              1  \n",
       "1160             1  \n",
       "1294             1  \n",
       "1428             1  \n",
       "1700             1  \n",
       "1804             1  \n",
       "3024             1  \n",
       "3102             1  \n",
       "3149             1  \n",
       "3396             1  \n",
       "4519             1  \n",
       "5393             1  \n",
       "5967             1  \n",
       "6335             1  \n",
       "6721             1  \n",
       "7272             1  \n",
       "7739             1  \n",
       "7865             1  \n",
       "8041             1  \n",
       "8833             1  \n",
       "8864             1  \n",
       "8918             1  \n",
       "9198             1  \n",
       "10336            1  \n",
       "10459            1  \n",
       "10598            1  \n",
       "10643            1  \n",
       "10897            1  \n",
       "...            ...  \n",
       "7794689          0  \n",
       "8089165          0  \n",
       "8157502          0  \n",
       "7051445          0  \n",
       "5839193          0  \n",
       "5853372          0  \n",
       "8945615          0  \n",
       "3733515          0  \n",
       "1048766          0  \n",
       "7886465          0  \n",
       "4168117          0  \n",
       "2784193          0  \n",
       "6639286          0  \n",
       "129548           0  \n",
       "2380870          0  \n",
       "2607414          0  \n",
       "9017085          0  \n",
       "3001395          0  \n",
       "5304670          0  \n",
       "3869553          0  \n",
       "508717           0  \n",
       "2291904          0  \n",
       "2663425          0  \n",
       "6589339          0  \n",
       "7489217          0  \n",
       "4077187          0  \n",
       "86445            0  \n",
       "481710           0  \n",
       "3987569          0  \n",
       "2838097          0  \n",
       "\n",
       "[116426 rows x 3 columns]>"
      ]
     },
     "execution_count": 58,
     "metadata": {},
     "output_type": "execute_result"
    }
   ],
   "source": [
    "under_sample.head"
   ]
  },
  {
   "cell_type": "code",
   "execution_count": 59,
   "metadata": {},
   "outputs": [],
   "source": [
    "under_sample=under_sample.reset_index(drop = True)"
   ]
  },
  {
   "cell_type": "code",
   "execution_count": 60,
   "metadata": {},
   "outputs": [
    {
     "data": {
      "text/plain": [
       "<bound method NDFrame.head of                Orig                                          Tr_desc_x  \\\n",
       "0       C1000036340                D/TRANSFER/(246611.22, 365423.309]/   \n",
       "1       C1000039615  C/TRANSFER/(122563.784, 176801.919]/;C/CASH_IN...   \n",
       "2       C1000086512                  D/CASH_OUT/(18092.028, 36371.35]/   \n",
       "3       C1000331499              D/TRANSFER/(365423.309, 92445516.64]/   \n",
       "4       C1000367306                C/TRANSFER/(176801.919, 246611.22]/   \n",
       "5       C1000407130              C/TRANSFER/(365423.309, 92445516.64]/   \n",
       "6       C1000484178              D/CASH_OUT/(365423.309, 92445516.64]/   \n",
       "7       C1000513158                   D/TRANSFER/(36371.35, 74871.94]/   \n",
       "8       C1000836187              C/TRANSFER/(365423.309, 92445516.64]/   \n",
       "9       C1000855680  C/TRANSFER/(365423.309, 92445516.64]/;C/CASH_I...   \n",
       "10      C1000868784              C/TRANSFER/(365423.309, 92445516.64]/   \n",
       "11      C1000937208              D/TRANSFER/(365423.309, 92445516.64]/   \n",
       "12      C1001258143  C/TRANSFER/(246611.22, 365423.309]/;C/CASH_OUT...   \n",
       "13      C1001502110              D/TRANSFER/(365423.309, 92445516.64]/   \n",
       "14      C1001664465                     C/TRANSFER/(4501.3, 9866.158]/   \n",
       "15      C1001765380                D/CASH_OUT/(246611.22, 365423.309]/   \n",
       "16      C1001875185              D/TRANSFER/(365423.309, 92445516.64]/   \n",
       "17      C1002031672  C/TRANSFER/(74871.94, 122563.784]/;C/CASH_OUT/...   \n",
       "18      C1002151702              C/TRANSFER/(365423.309, 92445516.64]/   \n",
       "19      C1002183297  C/CASH_OUT/(176801.919, 246611.22]/;C/CASH_OUT...   \n",
       "20      C1002233012                C/TRANSFER/(176801.919, 246611.22]/   \n",
       "21      C1002446735              D/CASH_OUT/(365423.309, 92445516.64]/   \n",
       "22      C1002454874              C/TRANSFER/(365423.309, 92445516.64]/   \n",
       "23      C1002469873  C/TRANSFER/(365423.309, 92445516.64]/;C/CASH_O...   \n",
       "24      C1002538556              C/TRANSFER/(365423.309, 92445516.64]/   \n",
       "25      C1002859898              D/TRANSFER/(365423.309, 92445516.64]/   \n",
       "26      C1002895272                          D/TRANSFER/(0.0, 4501.3]/   \n",
       "27      C1002939134  C/CASH_OUT/(36371.35, 74871.94]/;C/TRANSFER/(3...   \n",
       "28      C1002952732  C/CASH_OUT/(176801.919, 246611.22]/;C/CASH_OUT...   \n",
       "29      C1003023037               D/CASH_OUT/(122563.784, 176801.919]/   \n",
       "...             ...                                                ...   \n",
       "116396  M1782524155                   C/PAYMENT/(9866.158, 18092.028]/   \n",
       "116397   M204750973                   C/PAYMENT/(18092.028, 36371.35]/   \n",
       "116398  M2109238969                    C/PAYMENT/(36371.35, 74871.94]/   \n",
       "116399  M1114725200                   C/PAYMENT/(18092.028, 36371.35]/   \n",
       "116400   C697539114                D/CASH_OUT/(176801.919, 246611.22]/   \n",
       "116401    C70149802                D/CASH_OUT/(176801.919, 246611.22]/   \n",
       "116402   M884943837                           C/PAYMENT/(0.0, 4501.3]/   \n",
       "116403  C2042476155                  D/CASH_OUT/(18092.028, 36371.35]/   \n",
       "116404  C1293380174               D/CASH_OUT/(122563.784, 176801.919]/   \n",
       "116405  M1865138298                    C/PAYMENT/(36371.35, 74871.94]/   \n",
       "116406   C231013044                   D/PAYMENT/(18092.028, 36371.35]/   \n",
       "116407  C1777786207                D/CASH_OUT/(246611.22, 365423.309]/   \n",
       "116408   C920526023                D/CASH_OUT/(176801.919, 246611.22]/   \n",
       "116409  C1036200678              D/TRANSFER/(365423.309, 92445516.64]/   \n",
       "116410  C1665202957                      D/PAYMENT/(4501.3, 9866.158]/   \n",
       "116411  C1728384825                 D/CASH_OUT/(74871.94, 122563.784]/   \n",
       "116412    M94907051                           C/PAYMENT/(0.0, 4501.3]/   \n",
       "116413  C1838290740                          D/CASH_OUT/(0.0, 4501.3]/   \n",
       "116414   C548454436  C/CASH_OUT/(122563.784, 176801.919]/;C/CASH_OU...   \n",
       "116415  C2080579369                   D/CASH_OUT/(36371.35, 74871.94]/   \n",
       "116416  C1142440707                  D/CASH_OUT/(18092.028, 36371.35]/   \n",
       "116417  C1640308378                  D/CASH_IN/(74871.94, 122563.784]/   \n",
       "116418  C1744108293                  D/CASH_IN/(74871.94, 122563.784]/   \n",
       "116419   C906564755                          D/CASH_OUT/(0.0, 4501.3]/   \n",
       "116420  M1508253125                   C/PAYMENT/(9866.158, 18092.028]/   \n",
       "116421  C2138404906                   D/PAYMENT/(9866.158, 18092.028]/   \n",
       "116422  C1024162752               D/CASH_IN/(365423.309, 92445516.64]/   \n",
       "116423  C1134833567                D/CASH_OUT/(246611.22, 365423.309]/   \n",
       "116424  C2113471943                   D/CASH_OUT/(36371.35, 74871.94]/   \n",
       "116425   C179281922                      D/PAYMENT/(4501.3, 9866.158]/   \n",
       "\n",
       "        isFraud_x  \n",
       "0               1  \n",
       "1               1  \n",
       "2               1  \n",
       "3               1  \n",
       "4               1  \n",
       "5               1  \n",
       "6               1  \n",
       "7               1  \n",
       "8               1  \n",
       "9               1  \n",
       "10              1  \n",
       "11              1  \n",
       "12              1  \n",
       "13              1  \n",
       "14              1  \n",
       "15              1  \n",
       "16              1  \n",
       "17              1  \n",
       "18              1  \n",
       "19              1  \n",
       "20              1  \n",
       "21              1  \n",
       "22              1  \n",
       "23              1  \n",
       "24              1  \n",
       "25              1  \n",
       "26              1  \n",
       "27              1  \n",
       "28              1  \n",
       "29              1  \n",
       "...           ...  \n",
       "116396          0  \n",
       "116397          0  \n",
       "116398          0  \n",
       "116399          0  \n",
       "116400          0  \n",
       "116401          0  \n",
       "116402          0  \n",
       "116403          0  \n",
       "116404          0  \n",
       "116405          0  \n",
       "116406          0  \n",
       "116407          0  \n",
       "116408          0  \n",
       "116409          0  \n",
       "116410          0  \n",
       "116411          0  \n",
       "116412          0  \n",
       "116413          0  \n",
       "116414          0  \n",
       "116415          0  \n",
       "116416          0  \n",
       "116417          0  \n",
       "116418          0  \n",
       "116419          0  \n",
       "116420          0  \n",
       "116421          0  \n",
       "116422          0  \n",
       "116423          0  \n",
       "116424          0  \n",
       "116425          0  \n",
       "\n",
       "[116426 rows x 3 columns]>"
      ]
     },
     "execution_count": 60,
     "metadata": {},
     "output_type": "execute_result"
    }
   ],
   "source": [
    "under_sample.head"
   ]
  },
  {
   "cell_type": "code",
   "execution_count": 61,
   "metadata": {},
   "outputs": [
    {
     "data": {
      "text/plain": [
       "array([0.04970708, 0.35081984, 0.04608218, ..., 0.96822355, 0.04442837,\n",
       "       0.15297776])"
      ]
     },
     "execution_count": 61,
     "metadata": {},
     "output_type": "execute_result"
    }
   ],
   "source": [
    "np.random.rand(len(under_sample))"
   ]
  },
  {
   "cell_type": "code",
   "execution_count": 62,
   "metadata": {},
   "outputs": [],
   "source": [
    "msk = np.random.rand(len(under_sample)) < 0.8\n",
    "\n",
    "train = under_sample[msk]\n",
    "\n",
    "test = under_sample[~msk]"
   ]
  },
  {
   "cell_type": "code",
   "execution_count": 63,
   "metadata": {},
   "outputs": [
    {
     "data": {
      "text/plain": [
       "23265"
      ]
     },
     "execution_count": 63,
     "metadata": {},
     "output_type": "execute_result"
    }
   ],
   "source": [
    "len(test)"
   ]
  },
  {
   "cell_type": "code",
   "execution_count": 64,
   "metadata": {},
   "outputs": [
    {
     "data": {
      "text/plain": [
       "93161"
      ]
     },
     "execution_count": 64,
     "metadata": {},
     "output_type": "execute_result"
    }
   ],
   "source": [
    "len(train)"
   ]
  },
  {
   "cell_type": "code",
   "execution_count": 65,
   "metadata": {},
   "outputs": [],
   "source": [
    "train=train.reset_index(drop = True)"
   ]
  },
  {
   "cell_type": "code",
   "execution_count": 66,
   "metadata": {},
   "outputs": [],
   "source": [
    "test=test.reset_index(drop = True)"
   ]
  },
  {
   "cell_type": "code",
   "execution_count": 67,
   "metadata": {},
   "outputs": [
    {
     "data": {
      "text/plain": [
       "Orig         object\n",
       "Tr_desc_x    object\n",
       "isFraud_x     int32\n",
       "dtype: object"
      ]
     },
     "execution_count": 67,
     "metadata": {},
     "output_type": "execute_result"
    }
   ],
   "source": [
    "df_trxn_summ.dtypes"
   ]
  },
  {
   "cell_type": "code",
   "execution_count": 68,
   "metadata": {},
   "outputs": [
    {
     "data": {
      "text/plain": [
       "(9073944, 3)"
      ]
     },
     "execution_count": 68,
     "metadata": {},
     "output_type": "execute_result"
    }
   ],
   "source": [
    "df_trxn_summ.shape"
   ]
  },
  {
   "cell_type": "code",
   "execution_count": 69,
   "metadata": {},
   "outputs": [
    {
     "name": "stderr",
     "output_type": "stream",
     "text": [
      "Using TensorFlow backend.\n"
     ]
    }
   ],
   "source": [
    "# Keras\n",
    "from keras.preprocessing.text import Tokenizer\n",
    "from keras.preprocessing.sequence import pad_sequences\n",
    "from keras.models import Sequential\n",
    "from keras.layers import Dense, Flatten, LSTM, Conv1D, MaxPooling1D, Dropout, Activation\n",
    "from keras.layers.embeddings import Embedding\n",
    "from keras.layers.normalization import BatchNormalization"
   ]
  },
  {
   "cell_type": "code",
   "execution_count": 70,
   "metadata": {},
   "outputs": [],
   "source": [
    "# Others\n",
    "import nltk\n",
    "import string\n",
    "import numpy as np\n",
    "import pandas as pd\n",
    "from nltk.corpus import stopwords\n",
    "\n",
    "from sklearn.manifold import TSNE"
   ]
  },
  {
   "cell_type": "code",
   "execution_count": 71,
   "metadata": {},
   "outputs": [],
   "source": [
    "### Create sequence\n",
    "vocabulary_size = 20000\n",
    "tokenizer = Tokenizer(num_words= vocabulary_size, split=';')\n",
    "tokenizer.fit_on_texts(train['Tr_desc_x'])\n",
    "\n",
    "sequences = tokenizer.texts_to_sequences(train['Tr_desc_x'])\n",
    "data = pad_sequences(sequences, maxlen=60)"
   ]
  },
  {
   "cell_type": "code",
   "execution_count": 72,
   "metadata": {},
   "outputs": [
    {
     "data": {
      "text/plain": [
       "numpy.ndarray"
      ]
     },
     "execution_count": 72,
     "metadata": {},
     "output_type": "execute_result"
    }
   ],
   "source": [
    "type(data)"
   ]
  },
  {
   "cell_type": "code",
   "execution_count": 73,
   "metadata": {},
   "outputs": [
    {
     "data": {
      "text/plain": [
       "array([[ 0,  0,  0, ...,  7, 22,  5],\n",
       "       [ 0,  0,  0, ..., 10, 24,  9],\n",
       "       [ 0,  0,  0, ..., 13, 32, 12],\n",
       "       ...,\n",
       "       [ 0,  0,  0, ..., 18, 34, 13],\n",
       "       [ 0,  0,  0, ...,  7, 22,  5],\n",
       "       [ 0,  0,  0, ..., 12, 30, 11]])"
      ]
     },
     "execution_count": 73,
     "metadata": {},
     "output_type": "execute_result"
    }
   ],
   "source": [
    "data"
   ]
  },
  {
   "cell_type": "code",
   "execution_count": 74,
   "metadata": {},
   "outputs": [
    {
     "data": {
      "text/plain": [
       "(93161, 3)"
      ]
     },
     "execution_count": 74,
     "metadata": {},
     "output_type": "execute_result"
    }
   ],
   "source": [
    "train.shape"
   ]
  },
  {
   "cell_type": "code",
   "execution_count": 75,
   "metadata": {},
   "outputs": [],
   "source": [
    "labels = train['isFraud_x']"
   ]
  },
  {
   "cell_type": "code",
   "execution_count": 76,
   "metadata": {},
   "outputs": [
    {
     "data": {
      "text/plain": [
       "(93161,)"
      ]
     },
     "execution_count": 76,
     "metadata": {},
     "output_type": "execute_result"
    }
   ],
   "source": [
    "type(labels); labels.shape"
   ]
  },
  {
   "cell_type": "code",
   "execution_count": 77,
   "metadata": {},
   "outputs": [],
   "source": [
    "import tensorflow as tf\n",
    "from keras import backend as K\n",
    "\n",
    "def auc(y_true, y_pred):\n",
    "    auc = tf.metrics.auc(y_true, y_pred)[1]\n",
    "    K.get_session().run(tf.local_variables_initializer())\n",
    "    return auc"
   ]
  },
  {
   "cell_type": "code",
   "execution_count": 80,
   "metadata": {},
   "outputs": [],
   "source": [
    "## Network architecture\n",
    "\n",
    "model = Sequential()\n",
    "model.add(Embedding(20000, 100, input_length=60))\n",
    "model.add(LSTM(100, dropout=0.2, recurrent_dropout=0.2))\n",
    "model.add(Dense(1, activation='sigmoid'))\n",
    "#model.add(BatchNormalization())\n",
    "\n",
    "model.compile(loss='binary_crossentropy', optimizer='adam', metrics=[auc])"
   ]
  },
  {
   "cell_type": "code",
   "execution_count": 81,
   "metadata": {},
   "outputs": [
    {
     "name": "stdout",
     "output_type": "stream",
     "text": [
      "Train on 55896 samples, validate on 37265 samples\n",
      "Epoch 1/50\n",
      "55896/55896 [==============================] - 486s 9ms/step - loss: 0.2859 - auc: 0.8936 - val_loss: 0.1796 - val_auc: 0.9216\n",
      "Epoch 2/50\n",
      "55896/55896 [==============================] - 492s 9ms/step - loss: 0.2593 - auc: 0.9248 - val_loss: 0.1927 - val_auc: 0.9262\n",
      "Epoch 3/50\n",
      "55896/55896 [==============================] - 551s 10ms/step - loss: 0.2555 - auc: 0.9269 - val_loss: 0.1603 - val_auc: 0.9294\n",
      "Epoch 4/50\n",
      "55896/55896 [==============================] - 241s 4ms/step - loss: 0.2547 - auc: 0.9310 - val_loss: 0.1581 - val_auc: 0.9323\n",
      "Epoch 5/50\n",
      "55896/55896 [==============================] - 240s 4ms/step - loss: 0.2539 - auc: 0.9332 - val_loss: 0.1952 - val_auc: 0.9329\n",
      "Epoch 6/50\n",
      "55896/55896 [==============================] - 241s 4ms/step - loss: 0.2535 - auc: 0.9325 - val_loss: 0.1704 - val_auc: 0.9330\n",
      "Epoch 7/50\n",
      "55896/55896 [==============================] - 241s 4ms/step - loss: 0.2524 - auc: 0.9333 - val_loss: 0.1668 - val_auc: 0.9337\n",
      "Epoch 8/50\n",
      "55896/55896 [==============================] - 241s 4ms/step - loss: 0.2523 - auc: 0.9340 - val_loss: 0.1700 - val_auc: 0.9343\n",
      "Epoch 9/50\n",
      "55896/55896 [==============================] - 239s 4ms/step - loss: 0.2517 - auc: 0.9345 - val_loss: 0.1594 - val_auc: 0.9349\n",
      "Epoch 10/50\n",
      "55896/55896 [==============================] - 238s 4ms/step - loss: 0.2512 - auc: 0.9351 - val_loss: 0.1709 - val_auc: 0.9353\n",
      "Epoch 11/50\n",
      "55896/55896 [==============================] - 238s 4ms/step - loss: 0.2514 - auc: 0.9353 - val_loss: 0.1705 - val_auc: 0.9355\n",
      "Epoch 12/50\n",
      "55896/55896 [==============================] - 238s 4ms/step - loss: 0.2512 - auc: 0.9356 - val_loss: 0.1693 - val_auc: 0.9357\n",
      "Epoch 13/50\n",
      "55896/55896 [==============================] - 238s 4ms/step - loss: 0.2507 - auc: 0.9358 - val_loss: 0.1688 - val_auc: 0.9359\n",
      "Epoch 14/50\n",
      "55896/55896 [==============================] - 238s 4ms/step - loss: 0.2504 - auc: 0.9360 - val_loss: 0.1589 - val_auc: 0.9362\n",
      "Epoch 15/50\n",
      "55896/55896 [==============================] - 238s 4ms/step - loss: 0.2505 - auc: 0.9364 - val_loss: 0.1655 - val_auc: 0.9365\n",
      "Epoch 16/50\n",
      "55896/55896 [==============================] - 240s 4ms/step - loss: 0.2499 - auc: 0.9366 - val_loss: 0.1687 - val_auc: 0.9367\n",
      "Epoch 17/50\n",
      "55896/55896 [==============================] - 238s 4ms/step - loss: 0.2499 - auc: 0.9367 - val_loss: 0.1777 - val_auc: 0.9366\n",
      "Epoch 18/50\n",
      "55896/55896 [==============================] - 241s 4ms/step - loss: 0.2498 - auc: 0.9366 - val_loss: 0.1768 - val_auc: 0.9366\n",
      "Epoch 19/50\n",
      "55896/55896 [==============================] - 241s 4ms/step - loss: 0.2498 - auc: 0.9365 - val_loss: 0.1709 - val_auc: 0.9366\n",
      "Epoch 20/50\n",
      "55896/55896 [==============================] - 241s 4ms/step - loss: 0.2489 - auc: 0.9366 - val_loss: 0.1926 - val_auc: 0.9365\n",
      "Epoch 21/50\n",
      "55896/55896 [==============================] - 239s 4ms/step - loss: 0.2493 - auc: 0.9364 - val_loss: 0.1683 - val_auc: 0.9365\n",
      "Epoch 22/50\n",
      "55896/55896 [==============================] - 242s 4ms/step - loss: 0.2492 - auc: 0.9366 - val_loss: 0.1681 - val_auc: 0.9366\n",
      "Epoch 23/50\n",
      "55896/55896 [==============================] - 242s 4ms/step - loss: 0.2489 - auc: 0.9366 - val_loss: 0.1830 - val_auc: 0.9366\n",
      "Epoch 24/50\n",
      "55896/55896 [==============================] - 241s 4ms/step - loss: 0.2489 - auc: 0.9365 - val_loss: 0.1686 - val_auc: 0.9366\n",
      "Epoch 25/50\n",
      "55896/55896 [==============================] - 238s 4ms/step - loss: 0.2484 - auc: 0.9366 - val_loss: 0.1677 - val_auc: 0.9367\n",
      "Epoch 26/50\n",
      "55896/55896 [==============================] - 239s 4ms/step - loss: 0.2481 - auc: 0.9367 - val_loss: 0.1703 - val_auc: 0.9368\n",
      "Epoch 27/50\n",
      "55896/55896 [==============================] - 238s 4ms/step - loss: 0.2482 - auc: 0.9368 - val_loss: 0.1660 - val_auc: 0.9369\n",
      "Epoch 28/50\n",
      "55896/55896 [==============================] - 241s 4ms/step - loss: 0.2480 - auc: 0.9369 - val_loss: 0.1665 - val_auc: 0.9370\n",
      "Epoch 29/50\n",
      "55896/55896 [==============================] - 240s 4ms/step - loss: 0.2477 - auc: 0.9371 - val_loss: 0.1739 - val_auc: 0.9371\n",
      "Epoch 30/50\n",
      "55896/55896 [==============================] - 238s 4ms/step - loss: 0.2474 - auc: 0.9371 - val_loss: 0.1710 - val_auc: 0.9371\n",
      "Epoch 31/50\n",
      "55896/55896 [==============================] - 241s 4ms/step - loss: 0.2473 - auc: 0.9372 - val_loss: 0.1712 - val_auc: 0.9372\n",
      "Epoch 32/50\n",
      "55896/55896 [==============================] - 241s 4ms/step - loss: 0.2470 - auc: 0.9372 - val_loss: 0.1718 - val_auc: 0.9373\n",
      "Epoch 33/50\n",
      "55896/55896 [==============================] - 241s 4ms/step - loss: 0.2468 - auc: 0.9373 - val_loss: 0.1710 - val_auc: 0.9373\n",
      "Epoch 34/50\n",
      "55896/55896 [==============================] - 238s 4ms/step - loss: 0.2467 - auc: 0.9374 - val_loss: 0.1647 - val_auc: 0.9374\n",
      "Epoch 35/50\n",
      "55896/55896 [==============================] - 238s 4ms/step - loss: 0.2462 - auc: 0.9374 - val_loss: 0.1724 - val_auc: 0.9375\n",
      "Epoch 36/50\n",
      "55896/55896 [==============================] - 241s 4ms/step - loss: 0.2455 - auc: 0.9375 - val_loss: 0.1779 - val_auc: 0.9375\n",
      "Epoch 37/50\n",
      "55896/55896 [==============================] - 238s 4ms/step - loss: 0.2454 - auc: 0.9375 - val_loss: 0.1674 - val_auc: 0.9375\n",
      "Epoch 38/50\n",
      "55896/55896 [==============================] - 239s 4ms/step - loss: 0.2458 - auc: 0.9376 - val_loss: 0.1713 - val_auc: 0.9376\n",
      "Epoch 39/50\n",
      "55896/55896 [==============================] - 238s 4ms/step - loss: 0.2452 - auc: 0.9377 - val_loss: 0.1772 - val_auc: 0.9377\n",
      "Epoch 40/50\n",
      "55896/55896 [==============================] - 238s 4ms/step - loss: 0.2451 - auc: 0.9377 - val_loss: 0.1695 - val_auc: 0.9377\n",
      "Epoch 41/50\n",
      "55896/55896 [==============================] - 238s 4ms/step - loss: 0.2445 - auc: 0.9378 - val_loss: 0.1784 - val_auc: 0.9378\n",
      "Epoch 42/50\n",
      "55896/55896 [==============================] - 242s 4ms/step - loss: 0.2444 - auc: 0.9378 - val_loss: 0.1769 - val_auc: 0.9378\n",
      "Epoch 43/50\n",
      "55896/55896 [==============================] - 240s 4ms/step - loss: 0.2442 - auc: 0.9378 - val_loss: 0.1673 - val_auc: 0.9379\n",
      "Epoch 44/50\n",
      "55896/55896 [==============================] - 239s 4ms/step - loss: 0.2439 - auc: 0.9379 - val_loss: 0.1749 - val_auc: 0.9379\n",
      "Epoch 45/50\n",
      "55896/55896 [==============================] - 240s 4ms/step - loss: 0.2434 - auc: 0.9379 - val_loss: 0.1696 - val_auc: 0.9380\n",
      "Epoch 46/50\n",
      "55896/55896 [==============================] - 241s 4ms/step - loss: 0.2433 - auc: 0.9380 - val_loss: 0.1794 - val_auc: 0.9380\n",
      "Epoch 47/50\n",
      "55896/55896 [==============================] - 244s 4ms/step - loss: 0.2433 - auc: 0.9380 - val_loss: 0.1746 - val_auc: 0.9380\n",
      "Epoch 48/50\n",
      "55896/55896 [==============================] - 242s 4ms/step - loss: 0.2422 - auc: 0.9381 - val_loss: 0.1705 - val_auc: 0.9381\n",
      "Epoch 49/50\n",
      "55896/55896 [==============================] - 243s 4ms/step - loss: 0.2426 - auc: 0.9381 - val_loss: 0.1764 - val_auc: 0.9382\n",
      "Epoch 50/50\n",
      "55896/55896 [==============================] - 240s 4ms/step - loss: 0.2426 - auc: 0.9382 - val_loss: 0.1746 - val_auc: 0.9382\n"
     ]
    },
    {
     "data": {
      "text/plain": [
       "<keras.callbacks.History at 0x2070a014080>"
      ]
     },
     "execution_count": 81,
     "metadata": {},
     "output_type": "execute_result"
    }
   ],
   "source": [
    "model.fit(data, np.array(labels), validation_split=0.4, epochs=50)\n",
    "\n",
    "\n",
    "\n",
    "\n",
    "\n",
    "\n",
    "\n",
    "\n",
    "\n",
    "\n",
    "\n",
    "\n",
    "\n",
    "\n",
    "\n",
    "\n",
    "\n",
    "\n",
    "\n",
    "\n",
    "\n",
    "\n",
    "\n"
   ]
  },
  {
   "cell_type": "code",
   "execution_count": 83,
   "metadata": {},
   "outputs": [],
   "source": [
    "### Create sequence for OOT\n",
    "vocabulary_size = 20000\n",
    "tokenizer = Tokenizer(num_words= vocabulary_size, split=';')\n",
    "tokenizer.fit_on_texts(test['Tr_desc_x'])\n",
    "\n",
    "sequences = tokenizer.texts_to_sequences(test['Tr_desc_x'])\n",
    "data = pad_sequences(sequences, maxlen=60)"
   ]
  },
  {
   "cell_type": "code",
   "execution_count": 84,
   "metadata": {},
   "outputs": [],
   "source": [
    "predictions = model.predict(data)"
   ]
  },
  {
   "cell_type": "code",
   "execution_count": 85,
   "metadata": {},
   "outputs": [],
   "source": [
    "labels_test = test['isFraud_x']"
   ]
  },
  {
   "cell_type": "code",
   "execution_count": 86,
   "metadata": {},
   "outputs": [
    {
     "data": {
      "text/plain": [
       "numpy.ndarray"
      ]
     },
     "execution_count": 86,
     "metadata": {},
     "output_type": "execute_result"
    }
   ],
   "source": [
    "type(predictions)"
   ]
  },
  {
   "cell_type": "code",
   "execution_count": 87,
   "metadata": {},
   "outputs": [
    {
     "data": {
      "text/plain": [
       "pandas.core.series.Series"
      ]
     },
     "execution_count": 87,
     "metadata": {},
     "output_type": "execute_result"
    }
   ],
   "source": [
    "type(labels_test)"
   ]
  },
  {
   "cell_type": "code",
   "execution_count": 88,
   "metadata": {},
   "outputs": [
    {
     "data": {
      "text/plain": [
       "array([1, 1, 1, ..., 0, 0, 0])"
      ]
     },
     "execution_count": 88,
     "metadata": {},
     "output_type": "execute_result"
    }
   ],
   "source": [
    "np.array(labels_test)"
   ]
  },
  {
   "cell_type": "code",
   "execution_count": 89,
   "metadata": {},
   "outputs": [
    {
     "data": {
      "text/plain": [
       "(23265, 1)"
      ]
     },
     "execution_count": 89,
     "metadata": {},
     "output_type": "execute_result"
    }
   ],
   "source": [
    "predictions.shape"
   ]
  },
  {
   "cell_type": "code",
   "execution_count": 90,
   "metadata": {},
   "outputs": [
    {
     "data": {
      "text/plain": [
       "array([[9.6703255e-01],\n",
       "       [9.8851460e-01],\n",
       "       [7.0575559e-01],\n",
       "       ...,\n",
       "       [4.7534110e-07],\n",
       "       [2.2737784e-06],\n",
       "       [2.2225510e-07]], dtype=float32)"
      ]
     },
     "execution_count": 90,
     "metadata": {},
     "output_type": "execute_result"
    }
   ],
   "source": [
    "predictions"
   ]
  },
  {
   "cell_type": "code",
   "execution_count": 91,
   "metadata": {},
   "outputs": [
    {
     "data": {
      "text/plain": [
       "(23265,)"
      ]
     },
     "execution_count": 91,
     "metadata": {},
     "output_type": "execute_result"
    }
   ],
   "source": [
    "labels_test.shape"
   ]
  },
  {
   "cell_type": "code",
   "execution_count": 92,
   "metadata": {},
   "outputs": [
    {
     "data": {
      "text/plain": [
       "0.9340636900675731"
      ]
     },
     "execution_count": 92,
     "metadata": {},
     "output_type": "execute_result"
    }
   ],
   "source": [
    "from sklearn.metrics import roc_auc_score\n",
    "#y_true = np.array([0, 0, 1, 1])\n",
    "#y_scores = np.array([0.1, 0.4, 0.35, 0.8])\n",
    "roc_auc_score(np.array(labels_test), predictions)"
   ]
  }
 ],
 "metadata": {
  "kernelspec": {
   "display_name": "Python 3",
   "language": "python",
   "name": "python3"
  },
  "language_info": {
   "codemirror_mode": {
    "name": "ipython",
    "version": 3
   },
   "file_extension": ".py",
   "mimetype": "text/x-python",
   "name": "python",
   "nbconvert_exporter": "python",
   "pygments_lexer": "ipython3",
   "version": "3.5.6"
  }
 },
 "nbformat": 4,
 "nbformat_minor": 2
}
